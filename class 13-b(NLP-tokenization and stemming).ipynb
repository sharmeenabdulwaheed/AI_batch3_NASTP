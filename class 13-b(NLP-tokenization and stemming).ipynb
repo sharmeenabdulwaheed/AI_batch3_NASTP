{
 "cells": [
  {
   "cell_type": "code",
   "execution_count": 1,
   "id": "d60f81d8-7f51-428c-895a-d78b855a1cf5",
   "metadata": {},
   "outputs": [],
   "source": [
    "import nltk"
   ]
  },
  {
   "cell_type": "code",
   "execution_count": 2,
   "id": "be4675a3-7236-4d11-90fa-bbd7366cd8e9",
   "metadata": {},
   "outputs": [
    {
     "name": "stderr",
     "output_type": "stream",
     "text": [
      "[nltk_data] Downloading package wordnet to C:\\Users\\AR\n",
      "[nltk_data]     COMPUTER\\AppData\\Roaming\\nltk_data...\n",
      "[nltk_data] Downloading package omw-1.4 to C:\\Users\\AR\n",
      "[nltk_data]     COMPUTER\\AppData\\Roaming\\nltk_data...\n",
      "[nltk_data] Downloading package punkt to C:\\Users\\AR\n",
      "[nltk_data]     COMPUTER\\AppData\\Roaming\\nltk_data...\n",
      "[nltk_data]   Unzipping tokenizers\\punkt.zip.\n",
      "[nltk_data] Downloading package punkt_tab to C:\\Users\\AR\n",
      "[nltk_data]     COMPUTER\\AppData\\Roaming\\nltk_data...\n",
      "[nltk_data]   Unzipping tokenizers\\punkt_tab.zip.\n"
     ]
    },
    {
     "data": {
      "text/plain": [
       "True"
      ]
     },
     "execution_count": 2,
     "metadata": {},
     "output_type": "execute_result"
    }
   ],
   "source": [
    "#lemmatization/stemming\n",
    "nltk.download(\"wordnet\")\n",
    "nltk.download(\"omw-1.4\")\n",
    "#tokenization\n",
    "nltk.download(\"punkt\")\n",
    "nltk.download(\"punkt_tab\")"
   ]
  },
  {
   "cell_type": "code",
   "execution_count": 3,
   "id": "9861d657-8e5c-4aba-a268-c8c9fc8f8365",
   "metadata": {},
   "outputs": [],
   "source": [
    "from nltk.tokenize import word_tokenize, sent_tokenize"
   ]
  },
  {
   "cell_type": "markdown",
   "id": "1cc97669-635d-4ba6-8325-583f727d241d",
   "metadata": {},
   "source": [
    "## word tokenization"
   ]
  },
  {
   "cell_type": "code",
   "execution_count": 5,
   "id": "74ec0001-aaa4-4a49-bcca-486f15015253",
   "metadata": {},
   "outputs": [],
   "source": [
    "sentence=\"My name is Liza. I am 20 years old\"\n",
    "tokens=word_tokenize(sentence)"
   ]
  },
  {
   "cell_type": "code",
   "execution_count": 6,
   "id": "7c5e4055-0348-497d-ad2a-8084f050448f",
   "metadata": {},
   "outputs": [
    {
     "data": {
      "text/plain": [
       "['My', 'name', 'is', 'Liza', '.', 'I', 'am', '20', 'years', 'old']"
      ]
     },
     "execution_count": 6,
     "metadata": {},
     "output_type": "execute_result"
    }
   ],
   "source": [
    "tokens"
   ]
  },
  {
   "cell_type": "code",
   "execution_count": 8,
   "id": "d6602ffa-d9f1-4da8-ad21-d7dfe971f28e",
   "metadata": {},
   "outputs": [
    {
     "name": "stdout",
     "output_type": "stream",
     "text": [
      "['My', 'name', 'is', 'Liza', '.', 'I', 'am', '20', 'years', 'old']\n"
     ]
    }
   ],
   "source": [
    "print(tokens)"
   ]
  },
  {
   "cell_type": "code",
   "execution_count": 10,
   "id": "4683f9d0-0a83-4136-9f9c-d18124347c4a",
   "metadata": {},
   "outputs": [
    {
     "name": "stdout",
     "output_type": "stream",
     "text": [
      "My\n",
      "name\n",
      "is\n",
      "Liza\n",
      ".\n",
      "I\n",
      "am\n",
      "20\n",
      "years\n",
      "old\n"
     ]
    }
   ],
   "source": [
    "for i in tokens:\n",
    "    print (i)"
   ]
  },
  {
   "cell_type": "markdown",
   "id": "bc5570e7-62c0-4ee2-a75d-0d7ee394d35e",
   "metadata": {},
   "source": [
    "## sentence tokenization"
   ]
  },
  {
   "cell_type": "code",
   "execution_count": 11,
   "id": "7e73704b-b9d3-42f9-9bff-551cf411b1b3",
   "metadata": {},
   "outputs": [
    {
     "data": {
      "text/plain": [
       "['This is a cat.', 'Its color is brown.', 'It is 1 year old']"
      ]
     },
     "execution_count": 11,
     "metadata": {},
     "output_type": "execute_result"
    }
   ],
   "source": [
    "paragraph=\"This is a cat. Its color is brown. It is 1 year old\"\n",
    "sent_tokenize(paragraph)"
   ]
  },
  {
   "cell_type": "markdown",
   "id": "bb1facb7-00a0-4c87-84d8-2df2370d6e14",
   "metadata": {},
   "source": [
    "## character tokeniztion"
   ]
  },
  {
   "cell_type": "code",
   "execution_count": 12,
   "id": "cdeaece8-e18f-41d2-8f18-09cf84f39223",
   "metadata": {},
   "outputs": [
    {
     "data": {
      "text/plain": [
       "['M',\n",
       " 'y',\n",
       " ' ',\n",
       " 'n',\n",
       " 'a',\n",
       " 'm',\n",
       " 'e',\n",
       " ' ',\n",
       " 'i',\n",
       " 's',\n",
       " ' ',\n",
       " 'L',\n",
       " 'i',\n",
       " 'z',\n",
       " 'a',\n",
       " '.',\n",
       " ' ',\n",
       " 'I',\n",
       " ' ',\n",
       " 'a',\n",
       " 'm',\n",
       " ' ',\n",
       " '2',\n",
       " '0',\n",
       " ' ',\n",
       " 'y',\n",
       " 'e',\n",
       " 'a',\n",
       " 'r',\n",
       " 's',\n",
       " ' ',\n",
       " 'o',\n",
       " 'l',\n",
       " 'd']"
      ]
     },
     "execution_count": 12,
     "metadata": {},
     "output_type": "execute_result"
    }
   ],
   "source": [
    "list(sentence)"
   ]
  },
  {
   "cell_type": "code",
   "execution_count": 13,
   "id": "064e4ad1-1a06-445c-b079-5ddf4014b363",
   "metadata": {},
   "outputs": [],
   "source": [
    "from nltk.stem import PorterStemmer"
   ]
  },
  {
   "cell_type": "code",
   "execution_count": 14,
   "id": "bcba2a51-8ef1-46de-bfe6-62d90fcb033a",
   "metadata": {},
   "outputs": [],
   "source": [
    "ps= PorterStemmer()"
   ]
  },
  {
   "cell_type": "code",
   "execution_count": 15,
   "id": "0e6bcbf8-903b-48b0-bff9-78c003547107",
   "metadata": {},
   "outputs": [
    {
     "data": {
      "text/plain": [
       "'swim'"
      ]
     },
     "execution_count": 15,
     "metadata": {},
     "output_type": "execute_result"
    }
   ],
   "source": [
    "word= \"swimming\"\n",
    "ps.stem(word)"
   ]
  },
  {
   "cell_type": "code",
   "execution_count": 16,
   "id": "4f352aa4-b068-41ee-9a51-be1b7568badc",
   "metadata": {},
   "outputs": [
    {
     "data": {
      "text/plain": [
       "'runner'"
      ]
     },
     "execution_count": 16,
     "metadata": {},
     "output_type": "execute_result"
    }
   ],
   "source": [
    "ps.stem(\"runner\")"
   ]
  },
  {
   "cell_type": "code",
   "execution_count": 17,
   "id": "60278811-2a27-4073-93e9-11c2f2b498b6",
   "metadata": {},
   "outputs": [
    {
     "data": {
      "text/plain": [
       "'read'"
      ]
     },
     "execution_count": 17,
     "metadata": {},
     "output_type": "execute_result"
    }
   ],
   "source": [
    "ps.stem(\"reading\")"
   ]
  },
  {
   "cell_type": "code",
   "execution_count": 18,
   "id": "dcc6db01-e8f6-4ec0-b150-97db3b04ef45",
   "metadata": {},
   "outputs": [
    {
     "name": "stdout",
     "output_type": "stream",
     "text": [
      "connect\n",
      "connect\n",
      "connect\n",
      "connect\n",
      "connect\n"
     ]
    }
   ],
   "source": [
    "list_=[\"connected\", \"connection\", \"connect\", \"connectivity\", \"connecting\"]\n",
    "for i in list_:\n",
    "    print(ps.stem(i))"
   ]
  },
  {
   "cell_type": "code",
   "execution_count": 19,
   "id": "66750acb-e4e7-4616-aa2e-dc377938a9b3",
   "metadata": {},
   "outputs": [
    {
     "name": "stdout",
     "output_type": "stream",
     "text": [
      "swim\n",
      "swimmer\n",
      "swim\n",
      "swim\n",
      "drink\n",
      "eat\n"
     ]
    }
   ],
   "source": [
    "list_=\"swimming\", \"swimmer\", \"swimmed\", \"swims\", \"drinking\", \"eating\"\n",
    "stemmed=[]\n",
    "\n",
    "for i in list_:\n",
    "    temp=ps.stem(i)\n",
    "    stemmed.append(temp)\n",
    "    print(temp)"
   ]
  },
  {
   "cell_type": "code",
   "execution_count": 20,
   "id": "041aec2a-a3c8-4070-90b1-64c2384d5c2b",
   "metadata": {},
   "outputs": [
    {
     "data": {
      "text/plain": [
       "['swim', 'swimmer', 'swim', 'swim', 'drink', 'eat']"
      ]
     },
     "execution_count": 20,
     "metadata": {},
     "output_type": "execute_result"
    }
   ],
   "source": [
    "stemmed"
   ]
  },
  {
   "cell_type": "code",
   "execution_count": 21,
   "id": "1d5c81b3-8887-46c7-a530-122c4d86b8bd",
   "metadata": {},
   "outputs": [
    {
     "data": {
      "text/plain": [
       "'chang'"
      ]
     },
     "execution_count": 21,
     "metadata": {},
     "output_type": "execute_result"
    }
   ],
   "source": [
    "ps.stem(\"changing\")"
   ]
  },
  {
   "cell_type": "markdown",
   "id": "9be0cfa4-90dc-43c4-9890-627af6e6783f",
   "metadata": {},
   "source": [
    "## lemmatization"
   ]
  },
  {
   "cell_type": "code",
   "execution_count": 22,
   "id": "c9ee1dbd-916c-4d70-8abe-631dbbf78e35",
   "metadata": {},
   "outputs": [],
   "source": [
    "from nltk.stem import WordNetLemmatizer\n"
   ]
  },
  {
   "cell_type": "code",
   "execution_count": 23,
   "id": "7de42c1d-3404-4fc2-aff2-3331d15929b8",
   "metadata": {},
   "outputs": [],
   "source": [
    "lem=WordNetLemmatizer()"
   ]
  },
  {
   "cell_type": "code",
   "execution_count": 24,
   "id": "e9c88283-6c6f-47f3-a0f2-20ff67a2f317",
   "metadata": {},
   "outputs": [
    {
     "data": {
      "text/plain": [
       "'changing'"
      ]
     },
     "execution_count": 24,
     "metadata": {},
     "output_type": "execute_result"
    }
   ],
   "source": [
    "lem.lemmatize(\"changing\")"
   ]
  },
  {
   "cell_type": "code",
   "execution_count": 25,
   "id": "ae67e53a-41af-4864-b636-38259daf03a2",
   "metadata": {},
   "outputs": [
    {
     "data": {
      "text/plain": [
       "'changed'"
      ]
     },
     "execution_count": 25,
     "metadata": {},
     "output_type": "execute_result"
    }
   ],
   "source": [
    "lem.lemmatize(\"changed\")"
   ]
  },
  {
   "cell_type": "code",
   "execution_count": 26,
   "id": "1f90c782-bf35-4212-8fe5-07d902ef59ad",
   "metadata": {},
   "outputs": [
    {
     "name": "stdout",
     "output_type": "stream",
     "text": [
      "swimming\n",
      "swimmer\n",
      "swimmed\n",
      "swim\n",
      "drinking\n",
      "eating\n"
     ]
    }
   ],
   "source": [
    "list_=\"swimming\", \"swimmer\", \"swimmed\", \"swims\", \"drinking\", \"eating\"\n",
    "\n",
    "for i in list_:\n",
    "    print(lem.lemmatize(i))"
   ]
  },
  {
   "cell_type": "code",
   "execution_count": null,
   "id": "3827eee1-db80-4122-aa28-2ac4f0e41eba",
   "metadata": {},
   "outputs": [],
   "source": [
    "#confucion matrix, lemmatization not working fine, project"
   ]
  }
 ],
 "metadata": {
  "kernelspec": {
   "display_name": "Python 3 (ipykernel)",
   "language": "python",
   "name": "python3"
  },
  "language_info": {
   "codemirror_mode": {
    "name": "ipython",
    "version": 3
   },
   "file_extension": ".py",
   "mimetype": "text/x-python",
   "name": "python",
   "nbconvert_exporter": "python",
   "pygments_lexer": "ipython3",
   "version": "3.12.7"
  }
 },
 "nbformat": 4,
 "nbformat_minor": 5
}
