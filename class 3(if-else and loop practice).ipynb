{
 "cells": [
  {
   "cell_type": "code",
   "execution_count": 1,
   "id": "991b7677-c3cb-4cca-a0cf-73c8519ad056",
   "metadata": {},
   "outputs": [],
   "source": [
    "#revise concatenation, type conversion, simple if and if elif etc\n",
    "#questions from previous class\n",
    "#introduce while loop working\n",
    "#print counting till 10\n",
    "#infinite loop and why increment is necessary\n",
    "#take numbers and calculate sum of 10 numbers\n",
    "#print only even numbers between 0 and 20\n"
   ]
  },
  {
   "cell_type": "code",
   "execution_count": null,
   "id": "ed86f824-d951-4af2-8d8d-41e8e6c52233",
   "metadata": {},
   "outputs": [],
   "source": []
  },
  {
   "cell_type": "code",
   "execution_count": 3,
   "id": "7fe0b1a1-428f-4d7d-99a3-30d0cc330183",
   "metadata": {},
   "outputs": [
    {
     "name": "stdin",
     "output_type": "stream",
     "text": [
      "Enter your name:  Ali\n"
     ]
    }
   ],
   "source": [
    "name=input(\"Enter your name: \")"
   ]
  },
  {
   "cell_type": "code",
   "execution_count": 5,
   "id": "6f86ae9a-0a66-43f3-9c09-4120425b1e2b",
   "metadata": {},
   "outputs": [
    {
     "data": {
      "text/plain": [
       "'Ali'"
      ]
     },
     "execution_count": 5,
     "metadata": {},
     "output_type": "execute_result"
    }
   ],
   "source": [
    "name"
   ]
  },
  {
   "cell_type": "code",
   "execution_count": 7,
   "id": "d400f36b-d4e4-4b8e-88cc-adcb4c1b3765",
   "metadata": {},
   "outputs": [
    {
     "name": "stdin",
     "output_type": "stream",
     "text": [
      "enter your age:  15\n"
     ]
    }
   ],
   "source": [
    "num=input(\"enter your age: \")"
   ]
  },
  {
   "cell_type": "code",
   "execution_count": 11,
   "id": "bbf9037d-deef-493f-9b29-5a94f0f266f0",
   "metadata": {},
   "outputs": [
    {
     "data": {
      "text/plain": [
       "'15'"
      ]
     },
     "execution_count": 11,
     "metadata": {},
     "output_type": "execute_result"
    }
   ],
   "source": [
    "num"
   ]
  },
  {
   "cell_type": "code",
   "execution_count": 13,
   "id": "6e1ac03d-c83d-4cbc-b861-4b491ae0609f",
   "metadata": {},
   "outputs": [
    {
     "data": {
      "text/plain": [
       "str"
      ]
     },
     "execution_count": 13,
     "metadata": {},
     "output_type": "execute_result"
    }
   ],
   "source": [
    "type(num)"
   ]
  },
  {
   "cell_type": "code",
   "execution_count": 15,
   "id": "bdfb944f-333d-4746-b0e1-854c98d52c47",
   "metadata": {},
   "outputs": [
    {
     "ename": "TypeError",
     "evalue": "can only concatenate str (not \"int\") to str",
     "output_type": "error",
     "traceback": [
      "\u001b[1;31m---------------------------------------------------------------------------\u001b[0m",
      "\u001b[1;31mTypeError\u001b[0m                                 Traceback (most recent call last)",
      "Cell \u001b[1;32mIn[15], line 1\u001b[0m\n\u001b[1;32m----> 1\u001b[0m num\u001b[38;5;241m+\u001b[39m\u001b[38;5;241m5\u001b[39m\n",
      "\u001b[1;31mTypeError\u001b[0m: can only concatenate str (not \"int\") to str"
     ]
    }
   ],
   "source": [
    "num+5"
   ]
  },
  {
   "cell_type": "code",
   "execution_count": 17,
   "id": "67e4873e-47d0-4195-9343-e6ba3033ab54",
   "metadata": {},
   "outputs": [],
   "source": [
    "num=int(num)"
   ]
  },
  {
   "cell_type": "code",
   "execution_count": 19,
   "id": "a937409d-d08b-4ec3-9429-3fbf323e42bd",
   "metadata": {},
   "outputs": [
    {
     "data": {
      "text/plain": [
       "int"
      ]
     },
     "execution_count": 19,
     "metadata": {},
     "output_type": "execute_result"
    }
   ],
   "source": [
    "type(num)"
   ]
  },
  {
   "cell_type": "code",
   "execution_count": 21,
   "id": "365c3466-cbdc-4fa3-8ec6-11b6000f6516",
   "metadata": {},
   "outputs": [
    {
     "data": {
      "text/plain": [
       "20"
      ]
     },
     "execution_count": 21,
     "metadata": {},
     "output_type": "execute_result"
    }
   ],
   "source": [
    "num+5"
   ]
  },
  {
   "cell_type": "code",
   "execution_count": 23,
   "id": "4982f73b-d264-47db-b746-8158303af0f3",
   "metadata": {},
   "outputs": [
    {
     "data": {
      "text/plain": [
       "'Ali'"
      ]
     },
     "execution_count": 23,
     "metadata": {},
     "output_type": "execute_result"
    }
   ],
   "source": [
    "name"
   ]
  },
  {
   "cell_type": "code",
   "execution_count": 25,
   "id": "7a4e0029-a5f3-44f6-8e8f-099b2c0abff3",
   "metadata": {},
   "outputs": [
    {
     "name": "stdout",
     "output_type": "stream",
     "text": [
      "Welcome to this website  Ali\n"
     ]
    }
   ],
   "source": [
    "print(\"Welcome to this website \", name)"
   ]
  },
  {
   "cell_type": "code",
   "execution_count": 27,
   "id": "66cf8b4d-5753-4a16-b0bd-e398f1b727b1",
   "metadata": {},
   "outputs": [
    {
     "name": "stdout",
     "output_type": "stream",
     "text": [
      "Welcome to this website Ali\n"
     ]
    }
   ],
   "source": [
    "print(\"Welcome to this website \"+ name)"
   ]
  },
  {
   "cell_type": "code",
   "execution_count": 31,
   "id": "35fac39f-a9e5-4498-93bc-5ca306a42bd1",
   "metadata": {},
   "outputs": [
    {
     "data": {
      "text/plain": [
       "15"
      ]
     },
     "execution_count": 31,
     "metadata": {},
     "output_type": "execute_result"
    }
   ],
   "source": [
    "num"
   ]
  },
  {
   "cell_type": "code",
   "execution_count": 33,
   "id": "ff005263-100a-4f55-a1fd-8a3a86eb9695",
   "metadata": {},
   "outputs": [
    {
     "name": "stdout",
     "output_type": "stream",
     "text": [
      "your age is 15\n"
     ]
    }
   ],
   "source": [
    "print(\"your age is\" , num)"
   ]
  },
  {
   "cell_type": "code",
   "execution_count": 35,
   "id": "9375752c-a9f1-4b3a-a738-23c29ed652b5",
   "metadata": {},
   "outputs": [
    {
     "ename": "TypeError",
     "evalue": "can only concatenate str (not \"int\") to str",
     "output_type": "error",
     "traceback": [
      "\u001b[1;31m---------------------------------------------------------------------------\u001b[0m",
      "\u001b[1;31mTypeError\u001b[0m                                 Traceback (most recent call last)",
      "Cell \u001b[1;32mIn[35], line 1\u001b[0m\n\u001b[1;32m----> 1\u001b[0m \u001b[38;5;28mprint\u001b[39m(\u001b[38;5;124m\"\u001b[39m\u001b[38;5;124myour age is\u001b[39m\u001b[38;5;124m\"\u001b[39m \u001b[38;5;241m+\u001b[39m num)\n",
      "\u001b[1;31mTypeError\u001b[0m: can only concatenate str (not \"int\") to str"
     ]
    }
   ],
   "source": [
    "print(\"your age is\" + num)"
   ]
  },
  {
   "cell_type": "markdown",
   "id": "da5821ad-c4f7-4e57-905d-2a8d507ab4bb",
   "metadata": {},
   "source": [
    "print(\"your age is \" + str(num))"
   ]
  },
  {
   "cell_type": "code",
   "execution_count": 41,
   "id": "e366d6c7-9a4d-4695-9ca3-876e8cddbe76",
   "metadata": {},
   "outputs": [
    {
     "name": "stdout",
     "output_type": "stream",
     "text": [
      "you are pass\n"
     ]
    }
   ],
   "source": [
    "marks= 51\n",
    "if (marks>=50):\n",
    "    print(\"you are pass\")\n",
    "else:\n",
    "    print(\"you are fail\")"
   ]
  },
  {
   "cell_type": "markdown",
   "id": "7d352ecc-8f1c-4cdb-afe4-c671c073a494",
   "metadata": {},
   "source": [
    "## introduction to while loop"
   ]
  },
  {
   "cell_type": "code",
   "execution_count": 50,
   "id": "64524083-b2fa-4a41-8dcc-f535591427cc",
   "metadata": {},
   "outputs": [
    {
     "name": "stdout",
     "output_type": "stream",
     "text": [
      "inside loop\n",
      "1\n",
      "inside loop\n",
      "2\n",
      "inside loop\n",
      "3\n",
      "inside loop\n",
      "4\n"
     ]
    }
   ],
   "source": [
    "i=1\n",
    "while(i<5):\n",
    "    print(\"inside loop\")\n",
    "    print (i)\n",
    "    i=i+1"
   ]
  },
  {
   "cell_type": "code",
   "execution_count": 52,
   "id": "98b914bb-4542-48e3-8b72-f9504745f58b",
   "metadata": {},
   "outputs": [
    {
     "name": "stdout",
     "output_type": "stream",
     "text": [
      "1\n",
      "2\n",
      "3\n",
      "4\n",
      "5\n",
      "6\n",
      "7\n",
      "8\n",
      "9\n",
      "10\n"
     ]
    }
   ],
   "source": [
    "i=1\n",
    "while(i<=10):\n",
    "    print(i)\n",
    "    i=i+1 #i++"
   ]
  },
  {
   "cell_type": "code",
   "execution_count": 54,
   "id": "1ef3bb66-d2e1-41ff-a2d5-a7a69521745c",
   "metadata": {},
   "outputs": [
    {
     "data": {
      "text/plain": [
       "True"
      ]
     },
     "execution_count": 54,
     "metadata": {},
     "output_type": "execute_result"
    }
   ],
   "source": [
    "5!=4"
   ]
  },
  {
   "cell_type": "code",
   "execution_count": 56,
   "id": "806c7106-bee3-4e1f-91eb-b1ba7547ea44",
   "metadata": {},
   "outputs": [
    {
     "data": {
      "text/plain": [
       "False"
      ]
     },
     "execution_count": 56,
     "metadata": {},
     "output_type": "execute_result"
    }
   ],
   "source": [
    "3!=3"
   ]
  },
  {
   "cell_type": "code",
   "execution_count": 58,
   "id": "9738cec5-4cf4-4ede-b3f1-75bdeea99e14",
   "metadata": {},
   "outputs": [
    {
     "data": {
      "text/plain": [
       "True"
      ]
     },
     "execution_count": 58,
     "metadata": {},
     "output_type": "execute_result"
    }
   ],
   "source": [
    "\"pasta\"!=\"stop\""
   ]
  },
  {
   "cell_type": "code",
   "execution_count": 60,
   "id": "8a01a699-da18-4c96-b2e7-d24cf833e6fb",
   "metadata": {},
   "outputs": [
    {
     "data": {
      "text/plain": [
       "False"
      ]
     },
     "execution_count": 60,
     "metadata": {},
     "output_type": "execute_result"
    }
   ],
   "source": [
    "\"stop\"!=\"stop\""
   ]
  },
  {
   "cell_type": "code",
   "execution_count": 62,
   "id": "c48c554f-c8e3-42a9-ae82-106d16abdce9",
   "metadata": {},
   "outputs": [
    {
     "name": "stdin",
     "output_type": "stream",
     "text": [
      "Enter anything  laptop\n",
      "Enter anything  bottle\n",
      "Enter anything  stop\n"
     ]
    }
   ],
   "source": [
    "user_input=\" \"\n",
    "while (user_input!=\"stop\"):\n",
    "    user_input=input(\"Enter anything \")"
   ]
  },
  {
   "cell_type": "code",
   "execution_count": 66,
   "id": "85e7bf25-107d-46e9-a906-7b5ef7c05254",
   "metadata": {},
   "outputs": [
    {
     "name": "stdin",
     "output_type": "stream",
     "text": [
      "what is the name of your student  ali\n",
      "what is the name of your student  ahmed\n",
      "what is the name of your student  \n",
      "what is the name of your student  exit\n"
     ]
    }
   ],
   "source": [
    "teacher_input=\" \"\n",
    "while( teacher_input!= \"exit\"):\n",
    "    teacher_input=input(\"what is the name of your student \" )"
   ]
  },
  {
   "cell_type": "code",
   "execution_count": 68,
   "id": "29ed82ca-fd41-41d9-8fdf-80289075a717",
   "metadata": {},
   "outputs": [
    {
     "name": "stdout",
     "output_type": "stream",
     "text": [
      "0\n",
      "2\n",
      "4\n",
      "6\n",
      "8\n",
      "10\n",
      "12\n",
      "14\n",
      "16\n",
      "18\n",
      "20\n"
     ]
    }
   ],
   "source": [
    "i=0\n",
    "while (i<=20):\n",
    "    print(i)\n",
    "    i=i+2"
   ]
  },
  {
   "cell_type": "code",
   "execution_count": 76,
   "id": "4194c0e0-8c78-4586-bfd2-64540549556b",
   "metadata": {},
   "outputs": [
    {
     "name": "stdout",
     "output_type": "stream",
     "text": [
      "0\n",
      "3\n",
      "6\n",
      "9\n",
      "12\n",
      "15\n",
      "18\n"
     ]
    }
   ],
   "source": [
    "i=0\n",
    "while (i<=20):\n",
    "    print(i)\n",
    "    i=i+3\n",
    "\n",
    "#multiples of 3"
   ]
  },
  {
   "cell_type": "markdown",
   "id": "5eecb353-1578-4e56-9d06-124d1b9d965d",
   "metadata": {},
   "source": [
    "i=1\n",
    "while (i<=20):\n",
    "    print(i)\n",
    "    i=i+2"
   ]
  },
  {
   "cell_type": "markdown",
   "id": "5dec37cf-4967-4a08-b93f-c03ccd92f3fd",
   "metadata": {},
   "source": [
    "## write a program to input 10 numbers from user and calculate thier sum"
   ]
  },
  {
   "cell_type": "code",
   "execution_count": 87,
   "id": "8defa625-082e-4fe8-b800-44c5f89fb377",
   "metadata": {},
   "outputs": [
    {
     "name": "stdin",
     "output_type": "stream",
     "text": [
      "enter number  1\n",
      "enter number  2\n",
      "enter number  3\n",
      "enter number  4\n",
      "enter number  5\n"
     ]
    },
    {
     "name": "stdout",
     "output_type": "stream",
     "text": [
      "sum is  15\n"
     ]
    }
   ],
   "source": [
    "i=1\n",
    "sum=0\n",
    "while(i<=5):\n",
    "    num=int(input(\"enter number \"))\n",
    "    sum=sum+num\n",
    "    i=i+1\n",
    "print (\"sum is \", sum)"
   ]
  },
  {
   "cell_type": "code",
   "execution_count": 89,
   "id": "2615bd37-6e1e-4594-9ca8-2d51191046c1",
   "metadata": {},
   "outputs": [
    {
     "name": "stdin",
     "output_type": "stream",
     "text": [
      "enter number  1\n"
     ]
    },
    {
     "name": "stdout",
     "output_type": "stream",
     "text": [
      "sum is  1\n"
     ]
    },
    {
     "name": "stdin",
     "output_type": "stream",
     "text": [
      "enter number  2\n"
     ]
    },
    {
     "name": "stdout",
     "output_type": "stream",
     "text": [
      "sum is  3\n"
     ]
    },
    {
     "name": "stdin",
     "output_type": "stream",
     "text": [
      "enter number  3\n"
     ]
    },
    {
     "name": "stdout",
     "output_type": "stream",
     "text": [
      "sum is  6\n"
     ]
    },
    {
     "name": "stdin",
     "output_type": "stream",
     "text": [
      "enter number  4\n"
     ]
    },
    {
     "name": "stdout",
     "output_type": "stream",
     "text": [
      "sum is  10\n"
     ]
    },
    {
     "name": "stdin",
     "output_type": "stream",
     "text": [
      "enter number  5\n"
     ]
    },
    {
     "name": "stdout",
     "output_type": "stream",
     "text": [
      "sum is  15\n"
     ]
    }
   ],
   "source": [
    "i=1\n",
    "sum=0\n",
    "while(i<=5):\n",
    "    num=int(input(\"enter number \"))\n",
    "    sum=sum+num\n",
    "    i=i+1\n",
    "    print (\"sum is \", sum)"
   ]
  },
  {
   "cell_type": "code",
   "execution_count": null,
   "id": "b6b181f2-fe7a-439e-9b84-56a8ab5eeb46",
   "metadata": {},
   "outputs": [],
   "source": []
  }
 ],
 "metadata": {
  "kernelspec": {
   "display_name": "Python [conda env:base] *",
   "language": "python",
   "name": "conda-base-py"
  },
  "language_info": {
   "codemirror_mode": {
    "name": "ipython",
    "version": 3
   },
   "file_extension": ".py",
   "mimetype": "text/x-python",
   "name": "python",
   "nbconvert_exporter": "python",
   "pygments_lexer": "ipython3",
   "version": "3.12.7"
  }
 },
 "nbformat": 4,
 "nbformat_minor": 5
}
