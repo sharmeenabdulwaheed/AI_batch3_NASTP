{
 "cells": [
  {
   "cell_type": "code",
   "execution_count": 1,
   "id": "de150352-3454-4fed-a738-f182165831f3",
   "metadata": {},
   "outputs": [],
   "source": [
    "import cv2"
   ]
  },
  {
   "cell_type": "code",
   "execution_count": 4,
   "id": "e5b6cda6-b2ea-46e0-8fc1-30f2dfc7b144",
   "metadata": {},
   "outputs": [],
   "source": [
    "img=cv2.imread('cat.jpg')"
   ]
  },
  {
   "cell_type": "code",
   "execution_count": 7,
   "id": "bedfbd3d-d9cd-4ee4-ab07-3e5c6d2955d5",
   "metadata": {},
   "outputs": [],
   "source": [
    "cv2.imshow(\"Image\", img)\n",
    "cv2.waitKey(0)\n",
    "cv2.destroyAllWindows() "
   ]
  },
  {
   "cell_type": "markdown",
   "id": "7efede44-1fec-426a-b721-4270796b1943",
   "metadata": {},
   "source": [
    "## capturing live video from cam"
   ]
  },
  {
   "cell_type": "code",
   "execution_count": 8,
   "id": "54a0869e-4940-4734-bde3-f603c3717c89",
   "metadata": {},
   "outputs": [],
   "source": [
    "cap = cv2.VideoCapture(0)\n",
    "while True: \n",
    "    ret, frame = cap.read() \n",
    "    cv2.imshow('video', frame) \n",
    "    if cv2.waitKey(1) & 0xff == ord('q'): \n",
    "        break\n",
    "\n",
    "cap.release()\n",
    "cv2.destroyAllWindows()\n"
   ]
  },
  {
   "cell_type": "markdown",
   "id": "0813a9e9-7c9f-40c0-a513-ae020d8d6876",
   "metadata": {},
   "source": [
    "## detecting faces from live video stream"
   ]
  },
  {
   "cell_type": "code",
   "execution_count": null,
   "id": "32713850-5adc-4ed0-87e6-51d340895cc1",
   "metadata": {},
   "outputs": [],
   "source": []
  }
 ],
 "metadata": {
  "kernelspec": {
   "display_name": "Python 3 (ipykernel)",
   "language": "python",
   "name": "python3"
  },
  "language_info": {
   "codemirror_mode": {
    "name": "ipython",
    "version": 3
   },
   "file_extension": ".py",
   "mimetype": "text/x-python",
   "name": "python",
   "nbconvert_exporter": "python",
   "pygments_lexer": "ipython3",
   "version": "3.12.7"
  }
 },
 "nbformat": 4,
 "nbformat_minor": 5
}
