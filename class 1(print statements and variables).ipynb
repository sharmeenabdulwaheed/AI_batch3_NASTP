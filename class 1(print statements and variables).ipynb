{
 "cells": [
  {
   "cell_type": "code",
   "execution_count": 1,
   "id": "6261372d-8870-4114-9de3-9b741c825bf2",
   "metadata": {},
   "outputs": [
    {
     "name": "stdout",
     "output_type": "stream",
     "text": [
      "my name is ahemd\n"
     ]
    }
   ],
   "source": [
    "print(\"my name is ahemd\")"
   ]
  },
  {
   "cell_type": "code",
   "execution_count": 3,
   "id": "98a8950d-d6da-46f7-9ba8-3417c5af8935",
   "metadata": {},
   "outputs": [
    {
     "name": "stdout",
     "output_type": "stream",
     "text": [
      "8\n"
     ]
    }
   ],
   "source": [
    "print(8)"
   ]
  },
  {
   "cell_type": "code",
   "execution_count": 5,
   "id": "b95d4701-908f-4f48-afe1-31c8020e0d48",
   "metadata": {},
   "outputs": [
    {
     "data": {
      "text/plain": [
       "'ahmed'"
      ]
     },
     "execution_count": 5,
     "metadata": {},
     "output_type": "execute_result"
    }
   ],
   "source": [
    "\"ahmed\""
   ]
  },
  {
   "cell_type": "code",
   "execution_count": 7,
   "id": "3e150cf1-547c-4d48-8c37-aebd73c535a8",
   "metadata": {},
   "outputs": [],
   "source": [
    "name=\"ahmed\""
   ]
  },
  {
   "cell_type": "code",
   "execution_count": 9,
   "id": "338765a8-3126-4acb-b4f3-dacd5075ee26",
   "metadata": {},
   "outputs": [
    {
     "data": {
      "text/plain": [
       "'ahmed'"
      ]
     },
     "execution_count": 9,
     "metadata": {},
     "output_type": "execute_result"
    }
   ],
   "source": [
    "name"
   ]
  },
  {
   "cell_type": "code",
   "execution_count": null,
   "id": "b6719338-1703-4401-abab-ff68185e3f18",
   "metadata": {},
   "outputs": [],
   "source": []
  }
 ],
 "metadata": {
  "kernelspec": {
   "display_name": "Python [conda env:base] *",
   "language": "python",
   "name": "conda-base-py"
  },
  "language_info": {
   "codemirror_mode": {
    "name": "ipython",
    "version": 3
   },
   "file_extension": ".py",
   "mimetype": "text/x-python",
   "name": "python",
   "nbconvert_exporter": "python",
   "pygments_lexer": "ipython3",
   "version": "3.12.7"
  }
 },
 "nbformat": 4,
 "nbformat_minor": 5
}
