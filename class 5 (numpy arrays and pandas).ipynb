{
 "cells": [
  {
   "cell_type": "code",
   "execution_count": 3,
   "id": "4c417161-5a29-427e-9662-fb7fc3e7ecce",
   "metadata": {},
   "outputs": [],
   "source": [
    "#list can hold values of different datatypess\n",
    "#drawbacks of lists\n",
    "#introduction to numpy arrays\n",
    "#converting lists to array?\n",
    "#indexing and calling elemnt out of list range\n",
    "#np.mean,median,sum,\n",
    "#arr.ndim\n",
    "#reading csv file and calling simple pandas functions head, tail, info, describe\n"
   ]
  },
  {
   "cell_type": "code",
   "execution_count": 5,
   "id": "0304de57-9b08-42eb-8d1b-0c7fd3cc4b95",
   "metadata": {},
   "outputs": [
    {
     "name": "stdout",
     "output_type": "stream",
     "text": [
      "[1, 2, 3, 4, 8, 9, 0, 5]\n"
     ]
    }
   ],
   "source": [
    "\n",
    "l1=[1,2,3,4]\n",
    "l2=[8,9,0,5]\n",
    "\n",
    "print(l1+l2)\n",
    "#not expected output in case of lists, just concatenation happens\n"
   ]
  },
  {
   "cell_type": "code",
   "execution_count": null,
   "id": "efb6cc8f-6725-44ad-bc58-b9f35c4c4dcd",
   "metadata": {},
   "outputs": [],
   "source": [
    "marks=[45,67,90]\n",
    "name=[\"ali\", \"ahmed\", \"muhammad\"]\n",
    "plt.plot(name, marks)"
   ]
  },
  {
   "cell_type": "code",
   "execution_count": 1,
   "id": "1e2fdbf7-905f-463c-b811-c10f578cd2a1",
   "metadata": {},
   "outputs": [],
   "source": [
    "##nested if revision\n",
    "a=5\n",
    "b=7\n",
    "c=8\n",
    "if(a>b):\n",
    "    print(\"a is greater than b\")\n",
    "    if (9>3):\n",
    "        print(\"nested if condition is true\")\n",
    "\n",
    "# no output because outer if condition is false"
   ]
  },
  {
   "cell_type": "code",
   "execution_count": 3,
   "id": "7cc7a510-bc92-44eb-839d-eb891fc08abe",
   "metadata": {},
   "outputs": [],
   "source": [
    "a=[9,7,8,1,24,3]"
   ]
  },
  {
   "cell_type": "code",
   "execution_count": 5,
   "id": "a5054b24-e30d-4014-ae3d-0d995cff3421",
   "metadata": {},
   "outputs": [
    {
     "data": {
      "text/plain": [
       "list"
      ]
     },
     "execution_count": 5,
     "metadata": {},
     "output_type": "execute_result"
    }
   ],
   "source": [
    "type(a)"
   ]
  },
  {
   "cell_type": "code",
   "execution_count": 7,
   "id": "2affbcda-dabe-413c-a94c-3341b2581258",
   "metadata": {},
   "outputs": [
    {
     "data": {
      "text/plain": [
       "52"
      ]
     },
     "execution_count": 7,
     "metadata": {},
     "output_type": "execute_result"
    }
   ],
   "source": [
    "sum(a) "
   ]
  },
  {
   "cell_type": "code",
   "execution_count": 9,
   "id": "d3a849f5-dcf7-438e-8c2d-82323210c344",
   "metadata": {},
   "outputs": [],
   "source": [
    "a.append(8)"
   ]
  },
  {
   "cell_type": "code",
   "execution_count": 11,
   "id": "5bd282db-8111-4198-ace3-57f14c46b612",
   "metadata": {},
   "outputs": [
    {
     "data": {
      "text/plain": [
       "[9, 7, 8, 1, 24, 3, 8]"
      ]
     },
     "execution_count": 11,
     "metadata": {},
     "output_type": "execute_result"
    }
   ],
   "source": [
    "a"
   ]
  },
  {
   "cell_type": "markdown",
   "id": "21a0b897-0f0c-4a88-bf7c-d27b7e9dbd1d",
   "metadata": {},
   "source": [
    "## list.extend()"
   ]
  },
  {
   "cell_type": "code",
   "execution_count": 14,
   "id": "50e9dabf-81d9-4344-a46a-8d1487a6eda5",
   "metadata": {},
   "outputs": [
    {
     "data": {
      "text/plain": [
       "[9, 7, 8, 1, 24, 3, 8]"
      ]
     },
     "execution_count": 14,
     "metadata": {},
     "output_type": "execute_result"
    }
   ],
   "source": [
    "a"
   ]
  },
  {
   "cell_type": "code",
   "execution_count": 16,
   "id": "ef81b59b-d8e6-4ef5-b6b4-6d2b24560cad",
   "metadata": {},
   "outputs": [],
   "source": [
    "a.extend([1,2,3])"
   ]
  },
  {
   "cell_type": "code",
   "execution_count": 18,
   "id": "0bc93e9f-1780-45a5-bb9f-9c2a3b492bd9",
   "metadata": {},
   "outputs": [
    {
     "data": {
      "text/plain": [
       "[9, 7, 8, 1, 24, 3, 8, 1, 2, 3]"
      ]
     },
     "execution_count": 18,
     "metadata": {},
     "output_type": "execute_result"
    }
   ],
   "source": [
    "a"
   ]
  },
  {
   "cell_type": "code",
   "execution_count": 20,
   "id": "202e891c-8f7e-476e-95d3-7ffaa922e83f",
   "metadata": {},
   "outputs": [],
   "source": [
    "original= [1,2,3]\n",
    "list2=[4,5,6,7]"
   ]
  },
  {
   "cell_type": "code",
   "execution_count": 22,
   "id": "9d9a2a49-0b6b-4438-8cf8-9c76959041e8",
   "metadata": {},
   "outputs": [],
   "source": [
    "original.extend(list2)"
   ]
  },
  {
   "cell_type": "code",
   "execution_count": 24,
   "id": "8f0aca0f-f59d-488d-b0a4-990ac821c50a",
   "metadata": {},
   "outputs": [],
   "source": [
    "a=[23,6,87,123]"
   ]
  },
  {
   "cell_type": "code",
   "execution_count": 26,
   "id": "f1a55530-87b7-49af-876a-d7707a9c7b26",
   "metadata": {},
   "outputs": [
    {
     "data": {
      "text/plain": [
       "4"
      ]
     },
     "execution_count": 26,
     "metadata": {},
     "output_type": "execute_result"
    }
   ],
   "source": [
    "len(a)"
   ]
  },
  {
   "cell_type": "code",
   "execution_count": 28,
   "id": "6d5b24a7-2784-41d4-a3c9-f1228bf5cdbf",
   "metadata": {},
   "outputs": [
    {
     "data": {
      "text/plain": [
       "123"
      ]
     },
     "execution_count": 28,
     "metadata": {},
     "output_type": "execute_result"
    }
   ],
   "source": [
    "#a[index]\n",
    "a[3]"
   ]
  },
  {
   "cell_type": "code",
   "execution_count": 30,
   "id": "b2b50c6f-dbaf-4468-b815-c4075f4da7a9",
   "metadata": {},
   "outputs": [
    {
     "data": {
      "text/plain": [
       "23"
      ]
     },
     "execution_count": 30,
     "metadata": {},
     "output_type": "execute_result"
    }
   ],
   "source": [
    "a[0]"
   ]
  },
  {
   "cell_type": "code",
   "execution_count": 32,
   "id": "d3df8f44-a26a-4942-8bd9-77498b1a2cf9",
   "metadata": {},
   "outputs": [
    {
     "ename": "IndexError",
     "evalue": "list index out of range",
     "output_type": "error",
     "traceback": [
      "\u001b[1;31m---------------------------------------------------------------------------\u001b[0m",
      "\u001b[1;31mIndexError\u001b[0m                                Traceback (most recent call last)",
      "Cell \u001b[1;32mIn[32], line 1\u001b[0m\n\u001b[1;32m----> 1\u001b[0m a[\u001b[38;5;241m4\u001b[39m]\n",
      "\u001b[1;31mIndexError\u001b[0m: list index out of range"
     ]
    }
   ],
   "source": [
    "a[4]"
   ]
  },
  {
   "cell_type": "code",
   "execution_count": 34,
   "id": "4b7fdbe7-7cbe-4477-a2fa-96556168b63b",
   "metadata": {},
   "outputs": [
    {
     "data": {
      "text/plain": [
       "[23, 6, 87, 123]"
      ]
     },
     "execution_count": 34,
     "metadata": {},
     "output_type": "execute_result"
    }
   ],
   "source": [
    "a"
   ]
  },
  {
   "cell_type": "code",
   "execution_count": 36,
   "id": "6c96bfe9-7fa1-4275-a50a-c4ebac36b079",
   "metadata": {},
   "outputs": [
    {
     "name": "stdout",
     "output_type": "stream",
     "text": [
      "23\n",
      "6\n",
      "87\n",
      "123\n"
     ]
    }
   ],
   "source": [
    "for i in a:\n",
    "    print(i)"
   ]
  },
  {
   "cell_type": "markdown",
   "id": "9ef3e48f-ea1e-49d3-ac4c-14f69ce004de",
   "metadata": {},
   "source": [
    "## lists can store different datatypes"
   ]
  },
  {
   "cell_type": "code",
   "execution_count": 38,
   "id": "364a2751-af95-495b-8b84-d5e7269e2f2f",
   "metadata": {},
   "outputs": [],
   "source": [
    "new_list=[\"ahmed\", 23, 1.56, \"ali\"]"
   ]
  },
  {
   "cell_type": "code",
   "execution_count": 40,
   "id": "42cf4888-2dbc-48a7-b3e6-91cfe14e0c33",
   "metadata": {},
   "outputs": [
    {
     "name": "stdout",
     "output_type": "stream",
     "text": [
      "ahmed\n",
      "<class 'str'>\n",
      "23\n",
      "<class 'int'>\n",
      "1.56\n",
      "<class 'float'>\n",
      "ali\n",
      "<class 'str'>\n"
     ]
    }
   ],
   "source": [
    "for i in new_list:\n",
    "    print(i)\n",
    "    print(type(i))"
   ]
  },
  {
   "cell_type": "code",
   "execution_count": 42,
   "id": "8c6eb543-93be-42a5-8dd6-6bb8e91572b0",
   "metadata": {},
   "outputs": [
    {
     "ename": "TypeError",
     "evalue": "unsupported operand type(s) for +: 'int' and 'str'",
     "output_type": "error",
     "traceback": [
      "\u001b[1;31m---------------------------------------------------------------------------\u001b[0m",
      "\u001b[1;31mTypeError\u001b[0m                                 Traceback (most recent call last)",
      "Cell \u001b[1;32mIn[42], line 1\u001b[0m\n\u001b[1;32m----> 1\u001b[0m \u001b[38;5;28msum\u001b[39m(new_list)\n",
      "\u001b[1;31mTypeError\u001b[0m: unsupported operand type(s) for +: 'int' and 'str'"
     ]
    }
   ],
   "source": [
    "sum(new_list)"
   ]
  },
  {
   "cell_type": "markdown",
   "id": "3394a4b9-ac27-4008-88ea-b5b916b1db47",
   "metadata": {},
   "source": [
    "## introduction to numpy arrays"
   ]
  },
  {
   "cell_type": "code",
   "execution_count": 45,
   "id": "fce5f5e4-6464-4a35-b355-18e2f7cf965e",
   "metadata": {},
   "outputs": [
    {
     "name": "stdout",
     "output_type": "stream",
     "text": [
      "Requirement already satisfied: numpy in c:\\users\\harman\\anaconda3\\lib\\site-packages (1.26.4)\n"
     ]
    }
   ],
   "source": [
    "!pip install numpy"
   ]
  },
  {
   "cell_type": "code",
   "execution_count": 47,
   "id": "227a8b52-ccf5-4e86-8db3-e0b056520f77",
   "metadata": {},
   "outputs": [],
   "source": [
    "import numpy"
   ]
  },
  {
   "cell_type": "code",
   "execution_count": 49,
   "id": "dbe47329-9c8c-41ea-9846-03854e9bf323",
   "metadata": {},
   "outputs": [],
   "source": [
    "arr1=numpy.array([1,2,4])"
   ]
  },
  {
   "cell_type": "code",
   "execution_count": 51,
   "id": "6690db5c-34e1-40c7-8977-5aab48f3699d",
   "metadata": {},
   "outputs": [
    {
     "data": {
      "text/plain": [
       "array([1, 2, 4])"
      ]
     },
     "execution_count": 51,
     "metadata": {},
     "output_type": "execute_result"
    }
   ],
   "source": [
    "arr1"
   ]
  },
  {
   "cell_type": "code",
   "execution_count": 53,
   "id": "e5cc899e-974d-431d-beca-5805a25af114",
   "metadata": {},
   "outputs": [
    {
     "name": "stdout",
     "output_type": "stream",
     "text": [
      "1\n",
      "<class 'numpy.str_'>\n",
      "2\n",
      "<class 'numpy.str_'>\n",
      "4\n",
      "<class 'numpy.str_'>\n",
      "ali\n",
      "<class 'numpy.str_'>\n",
      "ahmed\n",
      "<class 'numpy.str_'>\n"
     ]
    }
   ],
   "source": [
    "arr1=numpy.array([1,2,4, \"ali\", \"ahmed\"])\n",
    "for i in arr1:\n",
    "    print(i)\n",
    "    print(type(i))"
   ]
  },
  {
   "cell_type": "markdown",
   "id": "e927189e-8aac-4c21-8737-63d22841aae9",
   "metadata": {},
   "source": [
    "## lists can store different data types but numpy arrays convert them into same without error"
   ]
  },
  {
   "cell_type": "code",
   "execution_count": 56,
   "id": "16c343c0-5476-43be-a9a6-78e1dffb1b53",
   "metadata": {},
   "outputs": [
    {
     "name": "stdout",
     "output_type": "stream",
     "text": [
      "[1, 2, 3, 4, 5, 6]\n"
     ]
    }
   ],
   "source": [
    "list1=[1,2,3]\n",
    "list2=[4,5,6]\n",
    "print(list1+list2)"
   ]
  },
  {
   "cell_type": "code",
   "execution_count": 58,
   "id": "ba89b0bc-5d48-4ac9-a54a-c7890fd574ba",
   "metadata": {},
   "outputs": [],
   "source": [
    "# element wise addition not possible"
   ]
  },
  {
   "cell_type": "code",
   "execution_count": 60,
   "id": "ab726464-6c93-439a-9b75-83a0c039aa01",
   "metadata": {},
   "outputs": [
    {
     "data": {
      "text/plain": [
       "[1, 2, 3, 1, 2, 3]"
      ]
     },
     "execution_count": 60,
     "metadata": {},
     "output_type": "execute_result"
    }
   ],
   "source": [
    "list1*2"
   ]
  },
  {
   "cell_type": "markdown",
   "id": "a6f65524-323d-4294-bece-21de9b48245e",
   "metadata": {},
   "source": [
    "## conveting lists into numpy array"
   ]
  },
  {
   "cell_type": "code",
   "execution_count": 65,
   "id": "49cb52d6-7e27-432d-8ea2-5bd3fee42c2c",
   "metadata": {},
   "outputs": [],
   "source": [
    "import numpy as np"
   ]
  },
  {
   "cell_type": "code",
   "execution_count": 67,
   "id": "2b089e4d-3f73-43a5-8b8b-b94a12a57c02",
   "metadata": {},
   "outputs": [],
   "source": [
    "arr1=np.array(list1)\n",
    "arr2=np.array(list2)"
   ]
  },
  {
   "cell_type": "code",
   "execution_count": 69,
   "id": "9103d6c9-db87-42fc-bd3c-1da0f51ae1cc",
   "metadata": {},
   "outputs": [
    {
     "data": {
      "text/plain": [
       "numpy.ndarray"
      ]
     },
     "execution_count": 69,
     "metadata": {},
     "output_type": "execute_result"
    }
   ],
   "source": [
    "type(arr1)"
   ]
  },
  {
   "cell_type": "code",
   "execution_count": 71,
   "id": "4c22075b-4d45-417b-8227-6edb53cbae20",
   "metadata": {},
   "outputs": [
    {
     "data": {
      "text/plain": [
       "array([5, 7, 9])"
      ]
     },
     "execution_count": 71,
     "metadata": {},
     "output_type": "execute_result"
    }
   ],
   "source": [
    "arr1+arr2"
   ]
  },
  {
   "cell_type": "code",
   "execution_count": 73,
   "id": "e2becbd1-1c6e-4085-aa85-46810495af23",
   "metadata": {},
   "outputs": [
    {
     "data": {
      "text/plain": [
       "array([ 8, 10, 12])"
      ]
     },
     "execution_count": 73,
     "metadata": {},
     "output_type": "execute_result"
    }
   ],
   "source": [
    "arr2*2"
   ]
  },
  {
   "cell_type": "code",
   "execution_count": 75,
   "id": "642eb594-5b5d-4ae9-98ec-097aaa159590",
   "metadata": {},
   "outputs": [
    {
     "data": {
      "text/plain": [
       "array([1, 2, 3])"
      ]
     },
     "execution_count": 75,
     "metadata": {},
     "output_type": "execute_result"
    }
   ],
   "source": [
    "arr1"
   ]
  },
  {
   "cell_type": "code",
   "execution_count": 77,
   "id": "f48dc1aa-0a73-4350-9e73-2999e1965beb",
   "metadata": {},
   "outputs": [
    {
     "data": {
      "text/plain": [
       "6"
      ]
     },
     "execution_count": 77,
     "metadata": {},
     "output_type": "execute_result"
    }
   ],
   "source": [
    "sum(arr1)"
   ]
  },
  {
   "cell_type": "code",
   "execution_count": 79,
   "id": "02819e5b-2f38-40d3-b2f9-5d43f890d0fb",
   "metadata": {},
   "outputs": [
    {
     "data": {
      "text/plain": [
       "2.0"
      ]
     },
     "execution_count": 79,
     "metadata": {},
     "output_type": "execute_result"
    }
   ],
   "source": [
    "np.mean(arr1)"
   ]
  },
  {
   "cell_type": "code",
   "execution_count": 81,
   "id": "0c268b8e-3cec-4ec0-90d8-cdf1138d0c44",
   "metadata": {},
   "outputs": [
    {
     "data": {
      "text/plain": [
       "2.0"
      ]
     },
     "execution_count": 81,
     "metadata": {},
     "output_type": "execute_result"
    }
   ],
   "source": [
    "np.median(arr1)"
   ]
  },
  {
   "cell_type": "code",
   "execution_count": 83,
   "id": "dfa808f3-b436-4206-b9a8-21d19fdbfe18",
   "metadata": {},
   "outputs": [
    {
     "ename": "AttributeError",
     "evalue": "module 'numpy' has no attribute 'mode'",
     "output_type": "error",
     "traceback": [
      "\u001b[1;31m---------------------------------------------------------------------------\u001b[0m",
      "\u001b[1;31mAttributeError\u001b[0m                            Traceback (most recent call last)",
      "Cell \u001b[1;32mIn[83], line 1\u001b[0m\n\u001b[1;32m----> 1\u001b[0m np\u001b[38;5;241m.\u001b[39mmode(arr1)\n",
      "File \u001b[1;32m~\\anaconda3\\Lib\\site-packages\\numpy\\__init__.py:333\u001b[0m, in \u001b[0;36m__getattr__\u001b[1;34m(attr)\u001b[0m\n\u001b[0;32m    330\u001b[0m     \u001b[38;5;124m\"\u001b[39m\u001b[38;5;124mRemoved in NumPy 1.25.0\u001b[39m\u001b[38;5;124m\"\u001b[39m\n\u001b[0;32m    331\u001b[0m     \u001b[38;5;28;01mraise\u001b[39;00m \u001b[38;5;167;01mRuntimeError\u001b[39;00m(\u001b[38;5;124m\"\u001b[39m\u001b[38;5;124mTester was removed in NumPy 1.25.\u001b[39m\u001b[38;5;124m\"\u001b[39m)\n\u001b[1;32m--> 333\u001b[0m \u001b[38;5;28;01mraise\u001b[39;00m \u001b[38;5;167;01mAttributeError\u001b[39;00m(\u001b[38;5;124m\"\u001b[39m\u001b[38;5;124mmodule \u001b[39m\u001b[38;5;132;01m{!r}\u001b[39;00m\u001b[38;5;124m has no attribute \u001b[39m\u001b[38;5;124m\"\u001b[39m\n\u001b[0;32m    334\u001b[0m                      \u001b[38;5;124m\"\u001b[39m\u001b[38;5;132;01m{!r}\u001b[39;00m\u001b[38;5;124m\"\u001b[39m\u001b[38;5;241m.\u001b[39mformat(\u001b[38;5;18m__name__\u001b[39m, attr))\n",
      "\u001b[1;31mAttributeError\u001b[0m: module 'numpy' has no attribute 'mode'"
     ]
    }
   ],
   "source": [
    "np.mode(arr1)"
   ]
  },
  {
   "cell_type": "code",
   "execution_count": 85,
   "id": "71e29946-88a5-4119-8fe3-425d4cf02fd8",
   "metadata": {},
   "outputs": [
    {
     "data": {
      "text/plain": [
       "1"
      ]
     },
     "execution_count": 85,
     "metadata": {},
     "output_type": "execute_result"
    }
   ],
   "source": [
    "arr1.ndim"
   ]
  },
  {
   "cell_type": "code",
   "execution_count": 87,
   "id": "2a09c992-d85d-4fe6-a019-d4f9cdb0574b",
   "metadata": {},
   "outputs": [
    {
     "data": {
      "text/plain": [
       "(3,)"
      ]
     },
     "execution_count": 87,
     "metadata": {},
     "output_type": "execute_result"
    }
   ],
   "source": [
    "arr1.shape"
   ]
  },
  {
   "cell_type": "code",
   "execution_count": 91,
   "id": "2129f717-66af-4a92-a0fc-97c5be8a2abb",
   "metadata": {},
   "outputs": [],
   "source": [
    "list2d=[[1,2,3], [3,4,5]]"
   ]
  },
  {
   "cell_type": "code",
   "execution_count": 93,
   "id": "7290eec9-0479-4759-9f5c-1e204c2d4f17",
   "metadata": {},
   "outputs": [],
   "source": [
    "array2d=np.array(list2d)"
   ]
  },
  {
   "cell_type": "code",
   "execution_count": 95,
   "id": "a8063f6f-2d2e-473c-97b1-e384932e7bf2",
   "metadata": {},
   "outputs": [
    {
     "data": {
      "text/plain": [
       "array([[1, 2, 3],\n",
       "       [3, 4, 5]])"
      ]
     },
     "execution_count": 95,
     "metadata": {},
     "output_type": "execute_result"
    }
   ],
   "source": [
    "array2d"
   ]
  },
  {
   "cell_type": "code",
   "execution_count": 101,
   "id": "d465658d-5b3a-40ec-a2b9-2066b6ec3a22",
   "metadata": {},
   "outputs": [
    {
     "data": {
      "text/plain": [
       "2"
      ]
     },
     "execution_count": 101,
     "metadata": {},
     "output_type": "execute_result"
    }
   ],
   "source": [
    "array2d.ndim"
   ]
  },
  {
   "cell_type": "code",
   "execution_count": 103,
   "id": "9cb7a33f-4673-4be6-ac62-09f104f60781",
   "metadata": {},
   "outputs": [
    {
     "data": {
      "text/plain": [
       "(2, 3)"
      ]
     },
     "execution_count": 103,
     "metadata": {},
     "output_type": "execute_result"
    }
   ],
   "source": [
    "array2d.shape"
   ]
  },
  {
   "cell_type": "markdown",
   "id": "3670bae2-f117-4161-b567-387b4e54bf58",
   "metadata": {},
   "source": [
    "## reading excel dataset in python"
   ]
  },
  {
   "cell_type": "code",
   "execution_count": 108,
   "id": "53b92e20-ab7f-4ef0-9009-77a85ab7f6e8",
   "metadata": {},
   "outputs": [
    {
     "name": "stdout",
     "output_type": "stream",
     "text": [
      "Requirement already satisfied: pandas in c:\\users\\harman\\anaconda3\\lib\\site-packages (2.2.2)\n",
      "Requirement already satisfied: numpy>=1.26.0 in c:\\users\\harman\\anaconda3\\lib\\site-packages (from pandas) (1.26.4)\n",
      "Requirement already satisfied: python-dateutil>=2.8.2 in c:\\users\\harman\\anaconda3\\lib\\site-packages (from pandas) (2.9.0.post0)\n",
      "Requirement already satisfied: pytz>=2020.1 in c:\\users\\harman\\anaconda3\\lib\\site-packages (from pandas) (2024.1)\n",
      "Requirement already satisfied: tzdata>=2022.7 in c:\\users\\harman\\anaconda3\\lib\\site-packages (from pandas) (2023.3)\n",
      "Requirement already satisfied: six>=1.5 in c:\\users\\harman\\anaconda3\\lib\\site-packages (from python-dateutil>=2.8.2->pandas) (1.16.0)\n"
     ]
    }
   ],
   "source": [
    "!pip install pandas"
   ]
  },
  {
   "cell_type": "code",
   "execution_count": 110,
   "id": "b5a76fc3-7f70-44d5-9b44-8f15c8f606d5",
   "metadata": {},
   "outputs": [],
   "source": [
    "import pandas as pd"
   ]
  },
  {
   "cell_type": "code",
   "execution_count": 116,
   "id": "f7a164d5-2e73-466f-8599-856c268c0abd",
   "metadata": {},
   "outputs": [],
   "source": [
    "data=pd.read_csv(\"D:/student_dataset.csv\")"
   ]
  },
  {
   "cell_type": "code",
   "execution_count": 120,
   "id": "a26cb034-0178-4cf3-a420-e5d61c86b5f4",
   "metadata": {},
   "outputs": [
    {
     "data": {
      "text/html": [
       "<div>\n",
       "<style scoped>\n",
       "    .dataframe tbody tr th:only-of-type {\n",
       "        vertical-align: middle;\n",
       "    }\n",
       "\n",
       "    .dataframe tbody tr th {\n",
       "        vertical-align: top;\n",
       "    }\n",
       "\n",
       "    .dataframe thead th {\n",
       "        text-align: right;\n",
       "    }\n",
       "</style>\n",
       "<table border=\"1\" class=\"dataframe\">\n",
       "  <thead>\n",
       "    <tr style=\"text-align: right;\">\n",
       "      <th></th>\n",
       "      <th>StudentID</th>\n",
       "      <th>Name</th>\n",
       "      <th>Age</th>\n",
       "      <th>Gender</th>\n",
       "      <th>Grade</th>\n",
       "      <th>Attendance</th>\n",
       "      <th>FinalExamScore</th>\n",
       "    </tr>\n",
       "  </thead>\n",
       "  <tbody>\n",
       "    <tr>\n",
       "      <th>0</th>\n",
       "      <td>S0001</td>\n",
       "      <td>Student1</td>\n",
       "      <td>25</td>\n",
       "      <td>Male</td>\n",
       "      <td>60.212228</td>\n",
       "      <td>85</td>\n",
       "      <td>78.652064</td>\n",
       "    </tr>\n",
       "    <tr>\n",
       "      <th>1</th>\n",
       "      <td>S0002</td>\n",
       "      <td>Student2</td>\n",
       "      <td>20</td>\n",
       "      <td>Male</td>\n",
       "      <td>96.532454</td>\n",
       "      <td>100</td>\n",
       "      <td>72.347071</td>\n",
       "    </tr>\n",
       "    <tr>\n",
       "      <th>2</th>\n",
       "      <td>S0003</td>\n",
       "      <td>Student3</td>\n",
       "      <td>24</td>\n",
       "      <td>Female</td>\n",
       "      <td>79.203509</td>\n",
       "      <td>35</td>\n",
       "      <td>88.799927</td>\n",
       "    </tr>\n",
       "    <tr>\n",
       "      <th>3</th>\n",
       "      <td>S0004</td>\n",
       "      <td>Student4</td>\n",
       "      <td>24</td>\n",
       "      <td>Male</td>\n",
       "      <td>65.519182</td>\n",
       "      <td>54</td>\n",
       "      <td>66.332211</td>\n",
       "    </tr>\n",
       "    <tr>\n",
       "      <th>4</th>\n",
       "      <td>S0005</td>\n",
       "      <td>Student5</td>\n",
       "      <td>17</td>\n",
       "      <td>Male</td>\n",
       "      <td>62.680631</td>\n",
       "      <td>53</td>\n",
       "      <td>43.787086</td>\n",
       "    </tr>\n",
       "  </tbody>\n",
       "</table>\n",
       "</div>"
      ],
      "text/plain": [
       "  StudentID      Name  Age  Gender      Grade  Attendance  FinalExamScore\n",
       "0     S0001  Student1   25    Male  60.212228          85       78.652064\n",
       "1     S0002  Student2   20    Male  96.532454         100       72.347071\n",
       "2     S0003  Student3   24  Female  79.203509          35       88.799927\n",
       "3     S0004  Student4   24    Male  65.519182          54       66.332211\n",
       "4     S0005  Student5   17    Male  62.680631          53       43.787086"
      ]
     },
     "execution_count": 120,
     "metadata": {},
     "output_type": "execute_result"
    }
   ],
   "source": [
    "data.head()"
   ]
  },
  {
   "cell_type": "code",
   "execution_count": 122,
   "id": "11ce585c-449c-43f8-aa1f-7ac504b3cf95",
   "metadata": {},
   "outputs": [
    {
     "data": {
      "text/html": [
       "<div>\n",
       "<style scoped>\n",
       "    .dataframe tbody tr th:only-of-type {\n",
       "        vertical-align: middle;\n",
       "    }\n",
       "\n",
       "    .dataframe tbody tr th {\n",
       "        vertical-align: top;\n",
       "    }\n",
       "\n",
       "    .dataframe thead th {\n",
       "        text-align: right;\n",
       "    }\n",
       "</style>\n",
       "<table border=\"1\" class=\"dataframe\">\n",
       "  <thead>\n",
       "    <tr style=\"text-align: right;\">\n",
       "      <th></th>\n",
       "      <th>StudentID</th>\n",
       "      <th>Name</th>\n",
       "      <th>Age</th>\n",
       "      <th>Gender</th>\n",
       "      <th>Grade</th>\n",
       "      <th>Attendance</th>\n",
       "      <th>FinalExamScore</th>\n",
       "    </tr>\n",
       "  </thead>\n",
       "  <tbody>\n",
       "    <tr>\n",
       "      <th>0</th>\n",
       "      <td>S0001</td>\n",
       "      <td>Student1</td>\n",
       "      <td>25</td>\n",
       "      <td>Male</td>\n",
       "      <td>60.212228</td>\n",
       "      <td>85</td>\n",
       "      <td>78.652064</td>\n",
       "    </tr>\n",
       "    <tr>\n",
       "      <th>1</th>\n",
       "      <td>S0002</td>\n",
       "      <td>Student2</td>\n",
       "      <td>20</td>\n",
       "      <td>Male</td>\n",
       "      <td>96.532454</td>\n",
       "      <td>100</td>\n",
       "      <td>72.347071</td>\n",
       "    </tr>\n",
       "    <tr>\n",
       "      <th>2</th>\n",
       "      <td>S0003</td>\n",
       "      <td>Student3</td>\n",
       "      <td>24</td>\n",
       "      <td>Female</td>\n",
       "      <td>79.203509</td>\n",
       "      <td>35</td>\n",
       "      <td>88.799927</td>\n",
       "    </tr>\n",
       "  </tbody>\n",
       "</table>\n",
       "</div>"
      ],
      "text/plain": [
       "  StudentID      Name  Age  Gender      Grade  Attendance  FinalExamScore\n",
       "0     S0001  Student1   25    Male  60.212228          85       78.652064\n",
       "1     S0002  Student2   20    Male  96.532454         100       72.347071\n",
       "2     S0003  Student3   24  Female  79.203509          35       88.799927"
      ]
     },
     "execution_count": 122,
     "metadata": {},
     "output_type": "execute_result"
    }
   ],
   "source": [
    "data.head(3)"
   ]
  },
  {
   "cell_type": "code",
   "execution_count": 124,
   "id": "87b3be33-0415-41ae-91a6-67e8d802e035",
   "metadata": {},
   "outputs": [
    {
     "data": {
      "text/html": [
       "<div>\n",
       "<style scoped>\n",
       "    .dataframe tbody tr th:only-of-type {\n",
       "        vertical-align: middle;\n",
       "    }\n",
       "\n",
       "    .dataframe tbody tr th {\n",
       "        vertical-align: top;\n",
       "    }\n",
       "\n",
       "    .dataframe thead th {\n",
       "        text-align: right;\n",
       "    }\n",
       "</style>\n",
       "<table border=\"1\" class=\"dataframe\">\n",
       "  <thead>\n",
       "    <tr style=\"text-align: right;\">\n",
       "      <th></th>\n",
       "      <th>StudentID</th>\n",
       "      <th>Name</th>\n",
       "      <th>Age</th>\n",
       "      <th>Gender</th>\n",
       "      <th>Grade</th>\n",
       "      <th>Attendance</th>\n",
       "      <th>FinalExamScore</th>\n",
       "    </tr>\n",
       "  </thead>\n",
       "  <tbody>\n",
       "    <tr>\n",
       "      <th>0</th>\n",
       "      <td>S0001</td>\n",
       "      <td>Student1</td>\n",
       "      <td>25</td>\n",
       "      <td>Male</td>\n",
       "      <td>60.212228</td>\n",
       "      <td>85</td>\n",
       "      <td>78.652064</td>\n",
       "    </tr>\n",
       "    <tr>\n",
       "      <th>1</th>\n",
       "      <td>S0002</td>\n",
       "      <td>Student2</td>\n",
       "      <td>20</td>\n",
       "      <td>Male</td>\n",
       "      <td>96.532454</td>\n",
       "      <td>100</td>\n",
       "      <td>72.347071</td>\n",
       "    </tr>\n",
       "    <tr>\n",
       "      <th>2</th>\n",
       "      <td>S0003</td>\n",
       "      <td>Student3</td>\n",
       "      <td>24</td>\n",
       "      <td>Female</td>\n",
       "      <td>79.203509</td>\n",
       "      <td>35</td>\n",
       "      <td>88.799927</td>\n",
       "    </tr>\n",
       "    <tr>\n",
       "      <th>3</th>\n",
       "      <td>S0004</td>\n",
       "      <td>Student4</td>\n",
       "      <td>24</td>\n",
       "      <td>Male</td>\n",
       "      <td>65.519182</td>\n",
       "      <td>54</td>\n",
       "      <td>66.332211</td>\n",
       "    </tr>\n",
       "    <tr>\n",
       "      <th>4</th>\n",
       "      <td>S0005</td>\n",
       "      <td>Student5</td>\n",
       "      <td>17</td>\n",
       "      <td>Male</td>\n",
       "      <td>62.680631</td>\n",
       "      <td>53</td>\n",
       "      <td>43.787086</td>\n",
       "    </tr>\n",
       "    <tr>\n",
       "      <th>5</th>\n",
       "      <td>S0006</td>\n",
       "      <td>Student6</td>\n",
       "      <td>17</td>\n",
       "      <td>Male</td>\n",
       "      <td>71.868357</td>\n",
       "      <td>84</td>\n",
       "      <td>75.846523</td>\n",
       "    </tr>\n",
       "    <tr>\n",
       "      <th>6</th>\n",
       "      <td>S0007</td>\n",
       "      <td>Student7</td>\n",
       "      <td>18</td>\n",
       "      <td>Female</td>\n",
       "      <td>86.301672</td>\n",
       "      <td>9</td>\n",
       "      <td>72.293310</td>\n",
       "    </tr>\n",
       "    <tr>\n",
       "      <th>7</th>\n",
       "      <td>S0008</td>\n",
       "      <td>Student8</td>\n",
       "      <td>17</td>\n",
       "      <td>Male</td>\n",
       "      <td>73.345534</td>\n",
       "      <td>11</td>\n",
       "      <td>90.620405</td>\n",
       "    </tr>\n",
       "  </tbody>\n",
       "</table>\n",
       "</div>"
      ],
      "text/plain": [
       "  StudentID      Name  Age  Gender      Grade  Attendance  FinalExamScore\n",
       "0     S0001  Student1   25    Male  60.212228          85       78.652064\n",
       "1     S0002  Student2   20    Male  96.532454         100       72.347071\n",
       "2     S0003  Student3   24  Female  79.203509          35       88.799927\n",
       "3     S0004  Student4   24    Male  65.519182          54       66.332211\n",
       "4     S0005  Student5   17    Male  62.680631          53       43.787086\n",
       "5     S0006  Student6   17    Male  71.868357          84       75.846523\n",
       "6     S0007  Student7   18  Female  86.301672           9       72.293310\n",
       "7     S0008  Student8   17    Male  73.345534          11       90.620405"
      ]
     },
     "execution_count": 124,
     "metadata": {},
     "output_type": "execute_result"
    }
   ],
   "source": [
    "data.head(8)"
   ]
  },
  {
   "cell_type": "code",
   "execution_count": 126,
   "id": "7f712b38-0102-46bf-bfc4-4cb80a86c6d4",
   "metadata": {},
   "outputs": [
    {
     "data": {
      "text/html": [
       "<div>\n",
       "<style scoped>\n",
       "    .dataframe tbody tr th:only-of-type {\n",
       "        vertical-align: middle;\n",
       "    }\n",
       "\n",
       "    .dataframe tbody tr th {\n",
       "        vertical-align: top;\n",
       "    }\n",
       "\n",
       "    .dataframe thead th {\n",
       "        text-align: right;\n",
       "    }\n",
       "</style>\n",
       "<table border=\"1\" class=\"dataframe\">\n",
       "  <thead>\n",
       "    <tr style=\"text-align: right;\">\n",
       "      <th></th>\n",
       "      <th>StudentID</th>\n",
       "      <th>Name</th>\n",
       "      <th>Age</th>\n",
       "      <th>Gender</th>\n",
       "      <th>Grade</th>\n",
       "      <th>Attendance</th>\n",
       "      <th>FinalExamScore</th>\n",
       "    </tr>\n",
       "  </thead>\n",
       "  <tbody>\n",
       "    <tr>\n",
       "      <th>495</th>\n",
       "      <td>S0496</td>\n",
       "      <td>Student496</td>\n",
       "      <td>16</td>\n",
       "      <td>Female</td>\n",
       "      <td>73.928348</td>\n",
       "      <td>10</td>\n",
       "      <td>63.297157</td>\n",
       "    </tr>\n",
       "    <tr>\n",
       "      <th>496</th>\n",
       "      <td>S0497</td>\n",
       "      <td>Student497</td>\n",
       "      <td>23</td>\n",
       "      <td>Male</td>\n",
       "      <td>63.353273</td>\n",
       "      <td>36</td>\n",
       "      <td>66.540411</td>\n",
       "    </tr>\n",
       "    <tr>\n",
       "      <th>497</th>\n",
       "      <td>S0498</td>\n",
       "      <td>Student498</td>\n",
       "      <td>17</td>\n",
       "      <td>Female</td>\n",
       "      <td>78.387603</td>\n",
       "      <td>11</td>\n",
       "      <td>83.505418</td>\n",
       "    </tr>\n",
       "    <tr>\n",
       "      <th>498</th>\n",
       "      <td>S0499</td>\n",
       "      <td>Student499</td>\n",
       "      <td>23</td>\n",
       "      <td>Male</td>\n",
       "      <td>95.011317</td>\n",
       "      <td>85</td>\n",
       "      <td>54.545547</td>\n",
       "    </tr>\n",
       "    <tr>\n",
       "      <th>499</th>\n",
       "      <td>S0500</td>\n",
       "      <td>Student500</td>\n",
       "      <td>19</td>\n",
       "      <td>Male</td>\n",
       "      <td>90.531636</td>\n",
       "      <td>56</td>\n",
       "      <td>60.780361</td>\n",
       "    </tr>\n",
       "  </tbody>\n",
       "</table>\n",
       "</div>"
      ],
      "text/plain": [
       "    StudentID        Name  Age  Gender      Grade  Attendance  FinalExamScore\n",
       "495     S0496  Student496   16  Female  73.928348          10       63.297157\n",
       "496     S0497  Student497   23    Male  63.353273          36       66.540411\n",
       "497     S0498  Student498   17  Female  78.387603          11       83.505418\n",
       "498     S0499  Student499   23    Male  95.011317          85       54.545547\n",
       "499     S0500  Student500   19    Male  90.531636          56       60.780361"
      ]
     },
     "execution_count": 126,
     "metadata": {},
     "output_type": "execute_result"
    }
   ],
   "source": [
    "data.tail()"
   ]
  },
  {
   "cell_type": "code",
   "execution_count": 128,
   "id": "3a2473a8-f1b8-437f-a79e-184ff58912e9",
   "metadata": {},
   "outputs": [
    {
     "name": "stdout",
     "output_type": "stream",
     "text": [
      "<class 'pandas.core.frame.DataFrame'>\n",
      "RangeIndex: 500 entries, 0 to 499\n",
      "Data columns (total 7 columns):\n",
      " #   Column          Non-Null Count  Dtype  \n",
      "---  ------          --------------  -----  \n",
      " 0   StudentID       500 non-null    object \n",
      " 1   Name            500 non-null    object \n",
      " 2   Age             500 non-null    int64  \n",
      " 3   Gender          500 non-null    object \n",
      " 4   Grade           500 non-null    float64\n",
      " 5   Attendance      500 non-null    int64  \n",
      " 6   FinalExamScore  500 non-null    float64\n",
      "dtypes: float64(2), int64(2), object(3)\n",
      "memory usage: 27.5+ KB\n"
     ]
    }
   ],
   "source": [
    "data.info()"
   ]
  },
  {
   "cell_type": "code",
   "execution_count": 130,
   "id": "60925d0f-f422-46c1-bacc-44e9c65d45bd",
   "metadata": {},
   "outputs": [
    {
     "data": {
      "text/html": [
       "<div>\n",
       "<style scoped>\n",
       "    .dataframe tbody tr th:only-of-type {\n",
       "        vertical-align: middle;\n",
       "    }\n",
       "\n",
       "    .dataframe tbody tr th {\n",
       "        vertical-align: top;\n",
       "    }\n",
       "\n",
       "    .dataframe thead th {\n",
       "        text-align: right;\n",
       "    }\n",
       "</style>\n",
       "<table border=\"1\" class=\"dataframe\">\n",
       "  <thead>\n",
       "    <tr style=\"text-align: right;\">\n",
       "      <th></th>\n",
       "      <th>Age</th>\n",
       "      <th>Grade</th>\n",
       "      <th>Attendance</th>\n",
       "      <th>FinalExamScore</th>\n",
       "    </tr>\n",
       "  </thead>\n",
       "  <tbody>\n",
       "    <tr>\n",
       "      <th>count</th>\n",
       "      <td>500.00000</td>\n",
       "      <td>500.000000</td>\n",
       "      <td>500.00000</td>\n",
       "      <td>500.000000</td>\n",
       "    </tr>\n",
       "    <tr>\n",
       "      <th>mean</th>\n",
       "      <td>20.51400</td>\n",
       "      <td>79.916892</td>\n",
       "      <td>50.64400</td>\n",
       "      <td>69.643785</td>\n",
       "    </tr>\n",
       "    <tr>\n",
       "      <th>std</th>\n",
       "      <td>2.91527</td>\n",
       "      <td>11.226716</td>\n",
       "      <td>29.81441</td>\n",
       "      <td>17.716107</td>\n",
       "    </tr>\n",
       "    <tr>\n",
       "      <th>min</th>\n",
       "      <td>16.00000</td>\n",
       "      <td>60.109527</td>\n",
       "      <td>0.00000</td>\n",
       "      <td>40.035899</td>\n",
       "    </tr>\n",
       "    <tr>\n",
       "      <th>25%</th>\n",
       "      <td>18.00000</td>\n",
       "      <td>70.317206</td>\n",
       "      <td>24.00000</td>\n",
       "      <td>53.337397</td>\n",
       "    </tr>\n",
       "    <tr>\n",
       "      <th>50%</th>\n",
       "      <td>21.00000</td>\n",
       "      <td>80.378709</td>\n",
       "      <td>52.00000</td>\n",
       "      <td>70.101841</td>\n",
       "    </tr>\n",
       "    <tr>\n",
       "      <th>75%</th>\n",
       "      <td>23.00000</td>\n",
       "      <td>89.286620</td>\n",
       "      <td>77.00000</td>\n",
       "      <td>84.955109</td>\n",
       "    </tr>\n",
       "    <tr>\n",
       "      <th>max</th>\n",
       "      <td>25.00000</td>\n",
       "      <td>99.955384</td>\n",
       "      <td>100.00000</td>\n",
       "      <td>99.995500</td>\n",
       "    </tr>\n",
       "  </tbody>\n",
       "</table>\n",
       "</div>"
      ],
      "text/plain": [
       "             Age       Grade  Attendance  FinalExamScore\n",
       "count  500.00000  500.000000   500.00000      500.000000\n",
       "mean    20.51400   79.916892    50.64400       69.643785\n",
       "std      2.91527   11.226716    29.81441       17.716107\n",
       "min     16.00000   60.109527     0.00000       40.035899\n",
       "25%     18.00000   70.317206    24.00000       53.337397\n",
       "50%     21.00000   80.378709    52.00000       70.101841\n",
       "75%     23.00000   89.286620    77.00000       84.955109\n",
       "max     25.00000   99.955384   100.00000       99.995500"
      ]
     },
     "execution_count": 130,
     "metadata": {},
     "output_type": "execute_result"
    }
   ],
   "source": [
    "data.describe()"
   ]
  },
  {
   "cell_type": "code",
   "execution_count": 132,
   "id": "21d35a67-4c9e-4032-94e2-e2577b6b8163",
   "metadata": {},
   "outputs": [
    {
     "data": {
      "text/html": [
       "<div>\n",
       "<style scoped>\n",
       "    .dataframe tbody tr th:only-of-type {\n",
       "        vertical-align: middle;\n",
       "    }\n",
       "\n",
       "    .dataframe tbody tr th {\n",
       "        vertical-align: top;\n",
       "    }\n",
       "\n",
       "    .dataframe thead th {\n",
       "        text-align: right;\n",
       "    }\n",
       "</style>\n",
       "<table border=\"1\" class=\"dataframe\">\n",
       "  <thead>\n",
       "    <tr style=\"text-align: right;\">\n",
       "      <th></th>\n",
       "      <th>name</th>\n",
       "      <th>age</th>\n",
       "      <th>marks</th>\n",
       "    </tr>\n",
       "  </thead>\n",
       "  <tbody>\n",
       "    <tr>\n",
       "      <th>0</th>\n",
       "      <td>shahzaib</td>\n",
       "      <td>21</td>\n",
       "      <td>50</td>\n",
       "    </tr>\n",
       "    <tr>\n",
       "      <th>1</th>\n",
       "      <td>ali</td>\n",
       "      <td>26</td>\n",
       "      <td>89</td>\n",
       "    </tr>\n",
       "  </tbody>\n",
       "</table>\n",
       "</div>"
      ],
      "text/plain": [
       "       name  age  marks\n",
       "0  shahzaib   21     50\n",
       "1       ali   26     89"
      ]
     },
     "execution_count": 132,
     "metadata": {},
     "output_type": "execute_result"
    }
   ],
   "source": [
    "pd.read_csv(\"D:/check.csv\")"
   ]
  },
  {
   "cell_type": "code",
   "execution_count": 134,
   "id": "1740345d-2b75-4723-80a4-8e788114e5d3",
   "metadata": {},
   "outputs": [],
   "source": [
    "list1=[1,56,34,45]\n",
    "list1.sort()"
   ]
  },
  {
   "cell_type": "code",
   "execution_count": 136,
   "id": "1b0bcb39-3015-476a-9b76-975a6422082a",
   "metadata": {},
   "outputs": [
    {
     "data": {
      "text/plain": [
       "[1, 34, 45, 56]"
      ]
     },
     "execution_count": 136,
     "metadata": {},
     "output_type": "execute_result"
    }
   ],
   "source": [
    "list1"
   ]
  },
  {
   "cell_type": "code",
   "execution_count": 138,
   "id": "b7fb1c26-559e-44c0-906f-263326e21524",
   "metadata": {},
   "outputs": [],
   "source": [
    "list2=[45,67,1,2]\n",
    "list2=list2.sort()"
   ]
  },
  {
   "cell_type": "code",
   "execution_count": 142,
   "id": "07f6c902-1639-4f30-a9f4-ba5ea6d6fbf7",
   "metadata": {},
   "outputs": [
    {
     "name": "stdout",
     "output_type": "stream",
     "text": [
      "None\n"
     ]
    }
   ],
   "source": [
    "print(list2)"
   ]
  },
  {
   "cell_type": "code",
   "execution_count": null,
   "id": "fae78b53-924d-4cbf-968a-e4ca36446081",
   "metadata": {},
   "outputs": [],
   "source": []
  }
 ],
 "metadata": {
  "kernelspec": {
   "display_name": "Python [conda env:base] *",
   "language": "python",
   "name": "conda-base-py"
  },
  "language_info": {
   "codemirror_mode": {
    "name": "ipython",
    "version": 3
   },
   "file_extension": ".py",
   "mimetype": "text/x-python",
   "name": "python",
   "nbconvert_exporter": "python",
   "pygments_lexer": "ipython3",
   "version": "3.12.7"
  }
 },
 "nbformat": 4,
 "nbformat_minor": 5
}
