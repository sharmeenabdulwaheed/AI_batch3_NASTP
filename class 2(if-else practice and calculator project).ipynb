{
 "cells": [
  {
   "cell_type": "code",
   "execution_count": 2,
   "id": "691b4871-9d0e-47d3-beea-8ba73b3660a8",
   "metadata": {},
   "outputs": [],
   "source": [
    "#variable, user input\n",
    "#contatenation of strings\n",
    "#default datatype and why we cant do calculations with it\n",
    "#input 2 numbers from user and add them\n",
    "#intro to if else and write one program for it\n"
   ]
  },
  {
   "cell_type": "code",
   "execution_count": 4,
   "id": "97bec95d-a2b8-4e90-9007-e531e0e07237",
   "metadata": {},
   "outputs": [
    {
     "name": "stdout",
     "output_type": "stream",
     "text": [
      "this is a jupyter notebook\n"
     ]
    }
   ],
   "source": [
    "print(\"this is a jupyter notebook\")"
   ]
  },
  {
   "cell_type": "code",
   "execution_count": 6,
   "id": "c7cbad35-e29a-4163-a597-ced227c90085",
   "metadata": {},
   "outputs": [
    {
     "name": "stdout",
     "output_type": "stream",
     "text": [
      "5\n"
     ]
    }
   ],
   "source": [
    "print(5)"
   ]
  },
  {
   "cell_type": "code",
   "execution_count": 8,
   "id": "09af86df-a0fd-45de-8965-ff0de3b51552",
   "metadata": {},
   "outputs": [
    {
     "name": "stdout",
     "output_type": "stream",
     "text": [
      "welcome ali\n"
     ]
    }
   ],
   "source": [
    "print(\"welcome ali\")"
   ]
  },
  {
   "cell_type": "code",
   "execution_count": 10,
   "id": "7e2fcecb-d645-4b25-a158-2f06b1bd9fc5",
   "metadata": {},
   "outputs": [],
   "source": [
    "#storing a name in a variable\n",
    "name= \"ali\""
   ]
  },
  {
   "cell_type": "code",
   "execution_count": 12,
   "id": "e19b5593-6bde-4267-b0f9-01b7546e4c15",
   "metadata": {},
   "outputs": [
    {
     "data": {
      "text/plain": [
       "'ali'"
      ]
     },
     "execution_count": 12,
     "metadata": {},
     "output_type": "execute_result"
    }
   ],
   "source": [
    "name"
   ]
  },
  {
   "cell_type": "markdown",
   "id": "ec112ca3-0aa3-4d09-abf5-fd9e5fa1d557",
   "metadata": {},
   "source": [
    "## concatenation"
   ]
  },
  {
   "cell_type": "code",
   "execution_count": 15,
   "id": "4a82190a-8a2e-4de2-ad11-94857537dc80",
   "metadata": {},
   "outputs": [
    {
     "name": "stdout",
     "output_type": "stream",
     "text": [
      "welcome to this website  ali\n"
     ]
    }
   ],
   "source": [
    "print(\"welcome to this website \", name)"
   ]
  },
  {
   "cell_type": "code",
   "execution_count": 19,
   "id": "7721f49f-c0a3-4732-a7c6-71a865519fdd",
   "metadata": {},
   "outputs": [
    {
     "name": "stdout",
     "output_type": "stream",
     "text": [
      "welcome to this website ali\n"
     ]
    }
   ],
   "source": [
    "print(\"welcome to this website \"+ name)"
   ]
  },
  {
   "cell_type": "code",
   "execution_count": 17,
   "id": "248c920d-1ca0-4725-8a42-1e80ed56a207",
   "metadata": {},
   "outputs": [
    {
     "name": "stdout",
     "output_type": "stream",
     "text": [
      "welcome to this website name\n"
     ]
    }
   ],
   "source": [
    "print(\"welcome to this website name\")\n",
    "#wrong way to call varuale, it simply prints vairable name"
   ]
  },
  {
   "cell_type": "markdown",
   "id": "87e8063d-9b3f-4219-a55b-6373d794614f",
   "metadata": {},
   "source": [
    "## taking input from user"
   ]
  },
  {
   "cell_type": "code",
   "execution_count": 24,
   "id": "a34a6d25-3510-4b51-9636-a9b11234cfc5",
   "metadata": {},
   "outputs": [
    {
     "name": "stdin",
     "output_type": "stream",
     "text": [
      "enter your name:  sharmeen\n"
     ]
    }
   ],
   "source": [
    "name= input(\"enter your name: \")"
   ]
  },
  {
   "cell_type": "code",
   "execution_count": 26,
   "id": "52fbd238-b6c2-490b-8461-35f8bc9dc482",
   "metadata": {},
   "outputs": [
    {
     "data": {
      "text/plain": [
       "'sharmeen'"
      ]
     },
     "execution_count": 26,
     "metadata": {},
     "output_type": "execute_result"
    }
   ],
   "source": [
    "name\n"
   ]
  },
  {
   "cell_type": "markdown",
   "id": "f3f6ddac-5294-4b20-ad89-021a232af4d9",
   "metadata": {},
   "source": [
    "## input for numerical data"
   ]
  },
  {
   "cell_type": "code",
   "execution_count": 33,
   "id": "d547f6bc-741f-4f90-8456-d9e6c114c28e",
   "metadata": {},
   "outputs": [
    {
     "name": "stdin",
     "output_type": "stream",
     "text": [
      "enter your age:  12\n"
     ]
    }
   ],
   "source": [
    "age=input(\"enter your age: \")"
   ]
  },
  {
   "cell_type": "code",
   "execution_count": 35,
   "id": "9a6b46e0-2d25-4d11-8587-e409965b372b",
   "metadata": {},
   "outputs": [
    {
     "data": {
      "text/plain": [
       "'12'"
      ]
     },
     "execution_count": 35,
     "metadata": {},
     "output_type": "execute_result"
    }
   ],
   "source": [
    "age\n"
   ]
  },
  {
   "cell_type": "code",
   "execution_count": 37,
   "id": "ddfb55c6-49d1-4b77-a940-9c44ad2e1046",
   "metadata": {},
   "outputs": [
    {
     "data": {
      "text/plain": [
       "str"
      ]
     },
     "execution_count": 37,
     "metadata": {},
     "output_type": "execute_result"
    }
   ],
   "source": [
    "type(age)"
   ]
  },
  {
   "cell_type": "code",
   "execution_count": 39,
   "id": "d5b26690-ade9-4536-a2a0-d4084d523c89",
   "metadata": {},
   "outputs": [
    {
     "ename": "TypeError",
     "evalue": "can only concatenate str (not \"int\") to str",
     "output_type": "error",
     "traceback": [
      "\u001b[1;31m---------------------------------------------------------------------------\u001b[0m",
      "\u001b[1;31mTypeError\u001b[0m                                 Traceback (most recent call last)",
      "Cell \u001b[1;32mIn[39], line 1\u001b[0m\n\u001b[1;32m----> 1\u001b[0m age\u001b[38;5;241m+\u001b[39m\u001b[38;5;241m12\u001b[39m\n",
      "\u001b[1;31mTypeError\u001b[0m: can only concatenate str (not \"int\") to str"
     ]
    }
   ],
   "source": [
    "age+12"
   ]
  },
  {
   "cell_type": "markdown",
   "id": "c26039f1-51b1-4e50-bf90-5933863a1065",
   "metadata": {},
   "source": [
    "## type conversion"
   ]
  },
  {
   "cell_type": "code",
   "execution_count": 42,
   "id": "10f743a7-8fae-4c82-9081-243679985768",
   "metadata": {},
   "outputs": [
    {
     "data": {
      "text/plain": [
       "12"
      ]
     },
     "execution_count": 42,
     "metadata": {},
     "output_type": "execute_result"
    }
   ],
   "source": [
    "int(age)"
   ]
  },
  {
   "cell_type": "code",
   "execution_count": 44,
   "id": "e4720542-4d56-4481-b3e4-ae4cce8b5222",
   "metadata": {},
   "outputs": [
    {
     "data": {
      "text/plain": [
       "str"
      ]
     },
     "execution_count": 44,
     "metadata": {},
     "output_type": "execute_result"
    }
   ],
   "source": [
    "type(age)"
   ]
  },
  {
   "cell_type": "code",
   "execution_count": 46,
   "id": "359b4279-a82d-4b56-8175-f27d47761ef4",
   "metadata": {},
   "outputs": [],
   "source": [
    "age= int(age)"
   ]
  },
  {
   "cell_type": "code",
   "execution_count": 48,
   "id": "69945409-6a1a-4425-b877-86f8b691c061",
   "metadata": {},
   "outputs": [
    {
     "data": {
      "text/plain": [
       "int"
      ]
     },
     "execution_count": 48,
     "metadata": {},
     "output_type": "execute_result"
    }
   ],
   "source": [
    "type(age)"
   ]
  },
  {
   "cell_type": "code",
   "execution_count": 50,
   "id": "1070bdb3-57ac-44e0-b638-9ce2f347e27a",
   "metadata": {},
   "outputs": [
    {
     "data": {
      "text/plain": [
       "24"
      ]
     },
     "execution_count": 50,
     "metadata": {},
     "output_type": "execute_result"
    }
   ],
   "source": [
    "age+12"
   ]
  },
  {
   "cell_type": "code",
   "execution_count": 52,
   "id": "14e0b67f-64ea-4edf-bf3a-575c11d9dbfa",
   "metadata": {},
   "outputs": [
    {
     "name": "stdin",
     "output_type": "stream",
     "text": [
      "enter number 1:  5\n",
      "enter number 2:  6\n"
     ]
    },
    {
     "name": "stdout",
     "output_type": "stream",
     "text": [
      "56\n"
     ]
    }
   ],
   "source": [
    "num1=input(\"enter number 1: \")\n",
    "num2= input(\"enter number 2: \")\n",
    "\n",
    "sum1=num1+num2\n",
    "print(sum1)"
   ]
  },
  {
   "cell_type": "code",
   "execution_count": 54,
   "id": "05409588-0d35-4151-82b0-c124f5a4d65e",
   "metadata": {},
   "outputs": [
    {
     "name": "stdout",
     "output_type": "stream",
     "text": [
      "11\n"
     ]
    }
   ],
   "source": [
    "num1=int(num1)\n",
    "num2=int(num2)\n",
    "print(num1+num2)\n"
   ]
  },
  {
   "cell_type": "code",
   "execution_count": 56,
   "id": "add187e3-fb6e-41e0-9f7d-542be849038a",
   "metadata": {},
   "outputs": [
    {
     "name": "stdin",
     "output_type": "stream",
     "text": [
      "enter number 5\n"
     ]
    }
   ],
   "source": [
    "num= int(input(\"enter number\" ))"
   ]
  },
  {
   "cell_type": "code",
   "execution_count": 58,
   "id": "bee077ed-1f3d-46b6-b457-4511e4561d37",
   "metadata": {},
   "outputs": [
    {
     "data": {
      "text/plain": [
       "int"
      ]
     },
     "execution_count": 58,
     "metadata": {},
     "output_type": "execute_result"
    }
   ],
   "source": [
    "type(num)\n"
   ]
  },
  {
   "cell_type": "code",
   "execution_count": 60,
   "id": "148fc400-6a63-41f1-bb0b-7a06b849819c",
   "metadata": {},
   "outputs": [],
   "source": [
    "name=\"ali\""
   ]
  },
  {
   "cell_type": "code",
   "execution_count": 62,
   "id": "b2279998-5ccc-49b5-80fd-55bcad3c4898",
   "metadata": {},
   "outputs": [
    {
     "name": "stdout",
     "output_type": "stream",
     "text": [
      "name is ali\n"
     ]
    }
   ],
   "source": [
    "print(\"name is\", name)"
   ]
  },
  {
   "cell_type": "markdown",
   "id": "9f329822-5469-4182-a9e8-9cd5c478dc4f",
   "metadata": {},
   "source": [
    "## concatenating string with int"
   ]
  },
  {
   "cell_type": "code",
   "execution_count": 65,
   "id": "710384ac-1844-4810-91eb-2714934e8183",
   "metadata": {},
   "outputs": [
    {
     "name": "stdout",
     "output_type": "stream",
     "text": [
      "your age is:  54\n"
     ]
    }
   ],
   "source": [
    "age= 54\n",
    "print(\"your age is: \" , age)"
   ]
  },
  {
   "cell_type": "code",
   "execution_count": 69,
   "id": "6001905a-9820-4bd6-aa68-02c1ac48e3a5",
   "metadata": {},
   "outputs": [
    {
     "name": "stdout",
     "output_type": "stream",
     "text": [
      "your age is: 54\n"
     ]
    }
   ],
   "source": [
    "print(\"your age is: \" + str(age))"
   ]
  },
  {
   "cell_type": "markdown",
   "id": "fde4d335-9182-4bf7-8179-db0314d8dbf0",
   "metadata": {},
   "source": [
    "## comparision operators"
   ]
  },
  {
   "cell_type": "code",
   "execution_count": 71,
   "id": "a904dda2-4974-46df-ae38-91700fbf483f",
   "metadata": {},
   "outputs": [
    {
     "data": {
      "text/plain": [
       "False"
      ]
     },
     "execution_count": 71,
     "metadata": {},
     "output_type": "execute_result"
    }
   ],
   "source": [
    "3>7"
   ]
  },
  {
   "cell_type": "code",
   "execution_count": 73,
   "id": "d78649e1-8ff7-4b05-b237-2c329a42ed43",
   "metadata": {},
   "outputs": [
    {
     "data": {
      "text/plain": [
       "True"
      ]
     },
     "execution_count": 73,
     "metadata": {},
     "output_type": "execute_result"
    }
   ],
   "source": [
    "5==5"
   ]
  },
  {
   "cell_type": "code",
   "execution_count": 75,
   "id": "61b7b58b-9fea-4907-b1a1-6967823a672b",
   "metadata": {},
   "outputs": [
    {
     "data": {
      "text/plain": [
       "True"
      ]
     },
     "execution_count": 75,
     "metadata": {},
     "output_type": "execute_result"
    }
   ],
   "source": [
    "7<=9"
   ]
  },
  {
   "cell_type": "code",
   "execution_count": 77,
   "id": "f3fb2abc-8b84-4c1a-981a-4386500f7b11",
   "metadata": {},
   "outputs": [
    {
     "data": {
      "text/plain": [
       "True"
      ]
     },
     "execution_count": 77,
     "metadata": {},
     "output_type": "execute_result"
    }
   ],
   "source": [
    "age>45"
   ]
  },
  {
   "cell_type": "code",
   "execution_count": 79,
   "id": "576991a1-157c-4fb0-bf35-ef962689b92d",
   "metadata": {},
   "outputs": [],
   "source": [
    "num1=78\n",
    "num2=13"
   ]
  },
  {
   "cell_type": "code",
   "execution_count": 81,
   "id": "818175c2-454f-4cda-b0bc-cbbbf1ab2c19",
   "metadata": {},
   "outputs": [
    {
     "data": {
      "text/plain": [
       "True"
      ]
     },
     "execution_count": 81,
     "metadata": {},
     "output_type": "execute_result"
    }
   ],
   "source": [
    "num1>num2"
   ]
  },
  {
   "cell_type": "code",
   "execution_count": 83,
   "id": "4beff99a-db88-46d4-9117-a5c73930ef71",
   "metadata": {},
   "outputs": [
    {
     "data": {
      "text/plain": [
       "False"
      ]
     },
     "execution_count": 83,
     "metadata": {},
     "output_type": "execute_result"
    }
   ],
   "source": [
    "num1>12 and num2<6"
   ]
  },
  {
   "cell_type": "code",
   "execution_count": 85,
   "id": "94722382-55a1-4591-b1c2-b73f5ffbcbcf",
   "metadata": {},
   "outputs": [
    {
     "data": {
      "text/plain": [
       "True"
      ]
     },
     "execution_count": 85,
     "metadata": {},
     "output_type": "execute_result"
    }
   ],
   "source": [
    "num1>12 or num2<6"
   ]
  },
  {
   "cell_type": "code",
   "execution_count": 87,
   "id": "9f6e253b-34a5-46f2-90ee-735e899fd1cc",
   "metadata": {},
   "outputs": [
    {
     "data": {
      "text/plain": [
       "1"
      ]
     },
     "execution_count": 87,
     "metadata": {},
     "output_type": "execute_result"
    }
   ],
   "source": [
    "int(7<=9)"
   ]
  },
  {
   "cell_type": "code",
   "execution_count": 90,
   "id": "2204b926-f4db-45e8-8e59-c8b040df0da5",
   "metadata": {},
   "outputs": [
    {
     "data": {
      "text/plain": [
       "0"
      ]
     },
     "execution_count": 90,
     "metadata": {},
     "output_type": "execute_result"
    }
   ],
   "source": [
    "int(5>7)"
   ]
  },
  {
   "cell_type": "code",
   "execution_count": 92,
   "id": "b66f7d93-bbb7-4afd-bc63-976e86fc812f",
   "metadata": {},
   "outputs": [
    {
     "ename": "TypeError",
     "evalue": "'>' not supported between instances of 'str' and 'int'",
     "output_type": "error",
     "traceback": [
      "\u001b[1;31m---------------------------------------------------------------------------\u001b[0m",
      "\u001b[1;31mTypeError\u001b[0m                                 Traceback (most recent call last)",
      "Cell \u001b[1;32mIn[92], line 1\u001b[0m\n\u001b[1;32m----> 1\u001b[0m name\u001b[38;5;241m>\u001b[39m\u001b[38;5;241m17\u001b[39m\n",
      "\u001b[1;31mTypeError\u001b[0m: '>' not supported between instances of 'str' and 'int'"
     ]
    }
   ],
   "source": [
    "name>17"
   ]
  },
  {
   "cell_type": "markdown",
   "id": "639514e6-355b-4da3-a736-85fe104b65e7",
   "metadata": {},
   "source": [
    "## program to check if the user is eligible for driving or not"
   ]
  },
  {
   "cell_type": "code",
   "execution_count": 103,
   "id": "de3e901c-3dd6-49cf-aa42-a3c4a2925041",
   "metadata": {},
   "outputs": [
    {
     "name": "stdin",
     "output_type": "stream",
     "text": [
      "what is your age?  6\n"
     ]
    },
    {
     "name": "stdout",
     "output_type": "stream",
     "text": [
      "if condition is  false\n",
      "you are noteligible for driving licsence\n"
     ]
    }
   ],
   "source": [
    "age= int(input(\"what is your age? \"))\n",
    "\n",
    "if (age>=18):\n",
    "    print(\"if condition is true\")\n",
    "    print(\"your are eligible for driving licsence\")\n",
    "else:\n",
    "    print(\"if condition is  false\")\n",
    "    print(\"you are noteligible for driving licsence\")"
   ]
  },
  {
   "cell_type": "code",
   "execution_count": 115,
   "id": "7fec5721-1c85-4e95-bf9a-702448b66a0b",
   "metadata": {},
   "outputs": [
    {
     "name": "stdin",
     "output_type": "stream",
     "text": [
      "what is the color of traffic signal. Enter R, G, Y:  r\n"
     ]
    },
    {
     "name": "stdout",
     "output_type": "stream",
     "text": [
      "You have to stop\n"
     ]
    }
   ],
   "source": [
    "light= input(\"what is the color of traffic signal. Enter R, G, Y: \")\n",
    "\n",
    "\n",
    "if light==\"R\" or light ==\"r\":\n",
    "    print(\"You have to stop\")\n",
    "elif light==\"Y\":\n",
    "    print(\"Ready to go\" )\n",
    "elif light==\"G\":\n",
    "    print(\"You may go\")\n",
    "else:\n",
    "    print(\"You have entered invalid value\")"
   ]
  },
  {
   "cell_type": "code",
   "execution_count": 113,
   "id": "30ed6c01-72bc-4f4b-84f4-764a0872792f",
   "metadata": {},
   "outputs": [
    {
     "data": {
      "text/plain": [
       "False"
      ]
     },
     "execution_count": 113,
     "metadata": {},
     "output_type": "execute_result"
    }
   ],
   "source": [
    "\"Name\"==\"name\""
   ]
  },
  {
   "cell_type": "markdown",
   "id": "a653d98d-7f7a-4dbe-a1b4-9f89af715b52",
   "metadata": {},
   "source": [
    "## mini- calculator your 1st project"
   ]
  },
  {
   "cell_type": "code",
   "execution_count": 122,
   "id": "abac6d9c-6786-4634-b33b-ae02e8fcd2d3",
   "metadata": {},
   "outputs": [
    {
     "name": "stdin",
     "output_type": "stream",
     "text": [
      "Enter your 1st number:  6\n",
      "Enter your 2nd number:  7\n",
      "what operation you want to perform ?\n"
     ]
    },
    {
     "name": "stdout",
     "output_type": "stream",
     "text": [
      "You have entered invalid operator\n"
     ]
    }
   ],
   "source": [
    "num1= int(input(\"Enter your 1st number: \"))\n",
    "num2= int(input(\"Enter your 2nd number: \"))\n",
    "\n",
    "op=input(\"what operation you want to perform\")\n",
    "if op==\"+\":\n",
    "    print(\"You have selected addition\")\n",
    "    print(num1+num2)\n",
    "elif op==\"-\":\n",
    "    print(\"You have selected subtraction\")\n",
    "    print(num1-num2)\n",
    "elif op==\"x\":\n",
    "    print(\"You have selected multiplication\")\n",
    "    print(num1*num2)\n",
    "elif op==\"/\":\n",
    "    print(\"You have selected division\")\n",
    "    print(num1/num2)\n",
    "else:\n",
    "    print(\"You have entered invalid operator\")"
   ]
  },
  {
   "cell_type": "code",
   "execution_count": null,
   "id": "1e63d922-ed06-44c3-9571-c1bfefc9b1f0",
   "metadata": {},
   "outputs": [],
   "source": []
  }
 ],
 "metadata": {
  "kernelspec": {
   "display_name": "Python [conda env:base] *",
   "language": "python",
   "name": "conda-base-py"
  },
  "language_info": {
   "codemirror_mode": {
    "name": "ipython",
    "version": 3
   },
   "file_extension": ".py",
   "mimetype": "text/x-python",
   "name": "python",
   "nbconvert_exporter": "python",
   "pygments_lexer": "ipython3",
   "version": "3.12.7"
  }
 },
 "nbformat": 4,
 "nbformat_minor": 5
}
