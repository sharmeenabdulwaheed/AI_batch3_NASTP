{
 "cells": [
  {
   "cell_type": "code",
   "execution_count": 10,
   "id": "71f41f67-1c29-480c-a9bb-a1801bafaa4a",
   "metadata": {},
   "outputs": [
    {
     "data": {
      "text/plain": [
       "True"
      ]
     },
     "execution_count": 10,
     "metadata": {},
     "output_type": "execute_result"
    }
   ],
   "source": [
    "5!=2"
   ]
  },
  {
   "cell_type": "code",
   "execution_count": 12,
   "id": "6a9fdafa-9f20-4e0a-bfe6-257620081ce9",
   "metadata": {},
   "outputs": [
    {
     "data": {
      "text/plain": [
       "False"
      ]
     },
     "execution_count": 12,
     "metadata": {},
     "output_type": "execute_result"
    }
   ],
   "source": [
    "5!=5"
   ]
  },
  {
   "cell_type": "code",
   "execution_count": 14,
   "id": "8cc8c063-e467-4441-8c2d-95eea4d1547b",
   "metadata": {},
   "outputs": [
    {
     "data": {
      "text/plain": [
       "True"
      ]
     },
     "execution_count": 14,
     "metadata": {},
     "output_type": "execute_result"
    }
   ],
   "source": [
    "5==5"
   ]
  },
  {
   "cell_type": "code",
   "execution_count": 20,
   "id": "b290c46f-02d4-4f25-81c9-a1ad06c9e100",
   "metadata": {},
   "outputs": [
    {
     "data": {
      "text/plain": [
       "False"
      ]
     },
     "execution_count": 20,
     "metadata": {},
     "output_type": "execute_result"
    }
   ],
   "source": [
    "\"name\"==\"Name\""
   ]
  },
  {
   "cell_type": "markdown",
   "id": "7e28ebd2-d9b7-4ea4-837a-9938ec715a06",
   "metadata": {},
   "source": [
    "## data validation using nested if"
   ]
  },
  {
   "cell_type": "code",
   "execution_count": 26,
   "id": "4f6ab345-5d41-44a5-b53e-963326257d25",
   "metadata": {},
   "outputs": [],
   "source": [
    "marks=101"
   ]
  },
  {
   "cell_type": "code",
   "execution_count": 28,
   "id": "4e8eb174-2bf8-4bc7-b0e8-3c596f8fd06b",
   "metadata": {},
   "outputs": [
    {
     "data": {
      "text/plain": [
       "False"
      ]
     },
     "execution_count": 28,
     "metadata": {},
     "output_type": "execute_result"
    }
   ],
   "source": [
    "marks>=0 and marks<=100"
   ]
  },
  {
   "cell_type": "code",
   "execution_count": 32,
   "id": "7b149dfa-e801-47e1-9129-23e470962f16",
   "metadata": {},
   "outputs": [
    {
     "name": "stdin",
     "output_type": "stream",
     "text": [
      "Enter your marks:  -9\n"
     ]
    },
    {
     "name": "stdout",
     "output_type": "stream",
     "text": [
      "user marks are invalid\n"
     ]
    }
   ],
   "source": [
    "marks=int(input(\"Enter your marks: \"))\n",
    "\n",
    "if(marks>=0 and marks<=100):\n",
    "    print(\"User marks are valid\")\n",
    "else:\n",
    "    print(\"user marks are invalid\")"
   ]
  },
  {
   "cell_type": "code",
   "execution_count": 34,
   "id": "5dec7939-de7b-43b1-a87e-777191b56bac",
   "metadata": {},
   "outputs": [
    {
     "name": "stdin",
     "output_type": "stream",
     "text": [
      "Enter your marks:  98\n"
     ]
    },
    {
     "name": "stdout",
     "output_type": "stream",
     "text": [
      "User marks are valid\n",
      "nested if condition is true\n",
      "user is pass\n"
     ]
    }
   ],
   "source": [
    "marks=int(input(\"Enter your marks: \"))\n",
    "\n",
    "if(marks>=0 and marks<=100):\n",
    "    print(\"User marks are valid\")\n",
    "    if(marks>33):\n",
    "        print(\"nested if condition is true\")\n",
    "        print(\"user is pass\")\n",
    "    else:\n",
    "        print(\"nested if condition is false\")\n",
    "        print(\"user is fail\")\n",
    "else:\n",
    "    print(\"user marks are invalid\")"
   ]
  },
  {
   "cell_type": "markdown",
   "id": "39511efb-dc4d-475d-99a4-77450b964353",
   "metadata": {},
   "source": [
    "## write table of number input by user"
   ]
  },
  {
   "cell_type": "code",
   "execution_count": 38,
   "id": "3f54d618-23d6-4534-a479-dd014bbe6db3",
   "metadata": {},
   "outputs": [
    {
     "name": "stdout",
     "output_type": "stream",
     "text": [
      "0\n",
      "2\n",
      "4\n",
      "6\n",
      "8\n"
     ]
    }
   ],
   "source": [
    "i=0\n",
    "while(i<10):\n",
    "    print (i)\n",
    "    i=i+2\n",
    "    "
   ]
  },
  {
   "cell_type": "code",
   "execution_count": 40,
   "id": "0cebc11e-ec84-462e-a1f4-f4283c6f2baf",
   "metadata": {},
   "outputs": [
    {
     "name": "stdout",
     "output_type": "stream",
     "text": [
      "2\n",
      "4\n",
      "6\n",
      "8\n",
      "10\n",
      "12\n",
      "14\n",
      "16\n",
      "18\n",
      "20\n"
     ]
    }
   ],
   "source": [
    "i=1\n",
    "while(i<=10):\n",
    "    print(2*i)\n",
    "    i=i+1"
   ]
  },
  {
   "cell_type": "code",
   "execution_count": 42,
   "id": "ec23bee6-fb59-4301-8e3a-bec549c9cd8d",
   "metadata": {},
   "outputs": [
    {
     "name": "stdout",
     "output_type": "stream",
     "text": [
      "2 x 1 = 2\n",
      "2 x 2 = 4\n",
      "2 x 3 = 6\n",
      "2 x 4 = 8\n",
      "2 x 5 = 10\n",
      "2 x 6 = 12\n",
      "2 x 7 = 14\n",
      "2 x 8 = 16\n",
      "2 x 9 = 18\n",
      "2 x 10 = 20\n"
     ]
    }
   ],
   "source": [
    "i=1\n",
    "while(i<=10):\n",
    "    print(2, \"x\", i, \"=\", (2*i))\n",
    "    i=i+1"
   ]
  },
  {
   "cell_type": "code",
   "execution_count": 46,
   "id": "53a4af95-4380-453c-b5ff-77e90847188d",
   "metadata": {},
   "outputs": [
    {
     "name": "stdin",
     "output_type": "stream",
     "text": [
      "Enter a number:  4\n"
     ]
    },
    {
     "name": "stdout",
     "output_type": "stream",
     "text": [
      "4 x 1 = 4\n",
      "4 x 2 = 8\n",
      "4 x 3 = 12\n",
      "4 x 4 = 16\n",
      "4 x 5 = 20\n",
      "4 x 6 = 24\n",
      "4 x 7 = 28\n",
      "4 x 8 = 32\n",
      "4 x 9 = 36\n",
      "4 x 10 = 40\n"
     ]
    }
   ],
   "source": [
    "num=int(input(\"Enter a number: \"))\n",
    "i=1\n",
    "while(i<=10):\n",
    "    print(num, \"x\", i, \"=\", (num*i))\n",
    "    i=i+1"
   ]
  },
  {
   "cell_type": "markdown",
   "id": "b5393dd4-3466-430f-bd14-bd6f5e93b228",
   "metadata": {},
   "source": [
    "## what are lists"
   ]
  },
  {
   "cell_type": "code",
   "execution_count": 1,
   "id": "71a1a83a-53b6-41e2-9a85-0d4e01b7d1f8",
   "metadata": {},
   "outputs": [],
   "source": [
    "list1= [12,16,10,11,14]"
   ]
  },
  {
   "cell_type": "code",
   "execution_count": 2,
   "id": "a3009f71-0914-4910-9883-21f79c27f310",
   "metadata": {},
   "outputs": [
    {
     "data": {
      "text/plain": [
       "[12, 16, 10, 11, 14]"
      ]
     },
     "execution_count": 2,
     "metadata": {},
     "output_type": "execute_result"
    }
   ],
   "source": [
    "list1\n"
   ]
  },
  {
   "cell_type": "code",
   "execution_count": 52,
   "id": "4be0f1ba-7d1a-480b-979a-3fc73919c135",
   "metadata": {},
   "outputs": [],
   "source": [
    "#len, sum, min, mac, slicing/indexing, list.index(), list.append(), input marks of 10 users and store it in list"
   ]
  },
  {
   "cell_type": "code",
   "execution_count": 54,
   "id": "1e09c014-f231-4fd3-8c78-5fbdbbe07103",
   "metadata": {},
   "outputs": [
    {
     "data": {
      "text/plain": [
       "5"
      ]
     },
     "execution_count": 54,
     "metadata": {},
     "output_type": "execute_result"
    }
   ],
   "source": [
    "len(list1)"
   ]
  },
  {
   "cell_type": "code",
   "execution_count": 56,
   "id": "e84e5415-12fc-4299-b95b-1e19115ec69d",
   "metadata": {},
   "outputs": [
    {
     "data": {
      "text/plain": [
       "63"
      ]
     },
     "execution_count": 56,
     "metadata": {},
     "output_type": "execute_result"
    }
   ],
   "source": [
    "sum(list1)"
   ]
  },
  {
   "cell_type": "code",
   "execution_count": 58,
   "id": "84c4525f-ed08-4675-8ea0-771dc171b0e4",
   "metadata": {},
   "outputs": [
    {
     "data": {
      "text/plain": [
       "10"
      ]
     },
     "execution_count": 58,
     "metadata": {},
     "output_type": "execute_result"
    }
   ],
   "source": [
    "min(list1)"
   ]
  },
  {
   "cell_type": "code",
   "execution_count": 60,
   "id": "7f684ce4-406d-487a-9a62-46640299606a",
   "metadata": {},
   "outputs": [
    {
     "data": {
      "text/plain": [
       "16"
      ]
     },
     "execution_count": 60,
     "metadata": {},
     "output_type": "execute_result"
    }
   ],
   "source": [
    "max(list1)"
   ]
  },
  {
   "cell_type": "code",
   "execution_count": 5,
   "id": "8a21225a-917c-4ec6-8b78-cc7383a56ed4",
   "metadata": {},
   "outputs": [],
   "source": [
    "list1.sort()"
   ]
  },
  {
   "cell_type": "code",
   "execution_count": 7,
   "id": "2b1167af-b689-4a51-8940-354db6f12ab8",
   "metadata": {},
   "outputs": [
    {
     "data": {
      "text/plain": [
       "[10, 11, 12, 14, 16]"
      ]
     },
     "execution_count": 7,
     "metadata": {},
     "output_type": "execute_result"
    }
   ],
   "source": [
    "list1"
   ]
  },
  {
   "cell_type": "code",
   "execution_count": 9,
   "id": "00e5c8a1-a3e5-4bf6-b9ba-13771af415b0",
   "metadata": {},
   "outputs": [],
   "source": [
    "list1=list1.sort() #wrong way"
   ]
  },
  {
   "cell_type": "code",
   "execution_count": 13,
   "id": "6cab0dbb-c5f0-4f57-880c-f9157d11f7bc",
   "metadata": {},
   "outputs": [
    {
     "name": "stdout",
     "output_type": "stream",
     "text": [
      "None\n"
     ]
    }
   ],
   "source": [
    "print(list1)"
   ]
  },
  {
   "cell_type": "code",
   "execution_count": 15,
   "id": "0269062d-ebf9-4317-9a8b-4e215769e905",
   "metadata": {},
   "outputs": [],
   "source": [
    "list2= [3,4,5,6,7]"
   ]
  },
  {
   "cell_type": "code",
   "execution_count": 19,
   "id": "d6e6c763-7545-4a5e-be8f-d9c2c5361027",
   "metadata": {},
   "outputs": [],
   "source": [
    "##append to add values"
   ]
  },
  {
   "cell_type": "code",
   "execution_count": 21,
   "id": "19097938-6b3d-4068-a451-448aef2a8cbd",
   "metadata": {},
   "outputs": [],
   "source": [
    "list2.append(8)"
   ]
  },
  {
   "cell_type": "code",
   "execution_count": 23,
   "id": "a9703d08-d56e-464f-8f1d-a732ef6cc397",
   "metadata": {},
   "outputs": [
    {
     "data": {
      "text/plain": [
       "[3, 4, 5, 6, 7, 8]"
      ]
     },
     "execution_count": 23,
     "metadata": {},
     "output_type": "execute_result"
    }
   ],
   "source": [
    "list2"
   ]
  },
  {
   "cell_type": "code",
   "execution_count": 33,
   "id": "0b5e7257-1b8a-4e9f-bff4-fd8e2c277abd",
   "metadata": {
    "scrolled": true
   },
   "outputs": [
    {
     "name": "stdin",
     "output_type": "stream",
     "text": [
      "Enter marks:  5\n",
      "Enter marks:  5\n",
      "Enter marks:  5\n",
      "Enter marks:  5\n",
      "Enter marks:  5\n"
     ]
    }
   ],
   "source": [
    "marks=[]\n",
    "i=1\n",
    "while(i<=5):\n",
    "    temp=int(input(\"Enter marks: \"))\n",
    "    i=i+1\n",
    "\n",
    "#we are not saving the marks in list using append func"
   ]
  },
  {
   "cell_type": "code",
   "execution_count": 35,
   "id": "2abc416b-f989-4f0f-be64-d157cb29649e",
   "metadata": {},
   "outputs": [
    {
     "data": {
      "text/plain": [
       "[]"
      ]
     },
     "execution_count": 35,
     "metadata": {},
     "output_type": "execute_result"
    }
   ],
   "source": [
    "marks"
   ]
  },
  {
   "cell_type": "code",
   "execution_count": 37,
   "id": "6ba539a9-ebd8-4b52-88b5-ad78b3a0c685",
   "metadata": {},
   "outputs": [
    {
     "name": "stdin",
     "output_type": "stream",
     "text": [
      "Enter marks:  12\n",
      "Enter marks:  2\n",
      "Enter marks:  3\n",
      "Enter marks:  2\n",
      "Enter marks:  1\n"
     ]
    }
   ],
   "source": [
    "marks=[]\n",
    "i=1\n",
    "while(i<=5):\n",
    "    temp=int(input(\"Enter marks: \"))\n",
    "    marks.append(temp)\n",
    "    i=i+1\n",
    "\n"
   ]
  },
  {
   "cell_type": "code",
   "execution_count": 39,
   "id": "83a6f7db-2ebc-4bab-a6c5-9cc8868483a3",
   "metadata": {},
   "outputs": [
    {
     "data": {
      "text/plain": [
       "[12, 2, 3, 2, 1]"
      ]
     },
     "execution_count": 39,
     "metadata": {},
     "output_type": "execute_result"
    }
   ],
   "source": [
    "marks"
   ]
  },
  {
   "cell_type": "markdown",
   "id": "7831946a-1830-488d-8209-ee639e13304e",
   "metadata": {},
   "source": [
    "## list can hold values of different datatypess"
   ]
  },
  {
   "cell_type": "code",
   "execution_count": null,
   "id": "d4d2d78d-04bc-443c-b915-8d16ef0dc45e",
   "metadata": {},
   "outputs": [],
   "source": []
  },
  {
   "cell_type": "code",
   "execution_count": null,
   "id": "611ce27b-4190-4fe2-a270-5d4d781a4447",
   "metadata": {},
   "outputs": [],
   "source": []
  },
  {
   "cell_type": "code",
   "execution_count": null,
   "id": "f0ca870f-331c-4f7f-a924-4d748a8b4d63",
   "metadata": {},
   "outputs": [],
   "source": []
  },
  {
   "cell_type": "code",
   "execution_count": null,
   "id": "47912f6a-1eaa-42fb-a6d9-064c6182302d",
   "metadata": {},
   "outputs": [],
   "source": []
  },
  {
   "cell_type": "code",
   "execution_count": null,
   "id": "516b674a-de9a-4e4b-ada4-0d20f146a507",
   "metadata": {},
   "outputs": [],
   "source": []
  },
  {
   "cell_type": "code",
   "execution_count": null,
   "id": "1a734061-12ee-46b4-8816-43883185a201",
   "metadata": {},
   "outputs": [],
   "source": []
  },
  {
   "cell_type": "code",
   "execution_count": null,
   "id": "732fad93-d443-4bbe-8781-55044c126c9d",
   "metadata": {},
   "outputs": [],
   "source": []
  },
  {
   "cell_type": "code",
   "execution_count": null,
   "id": "eee0e98d-814e-4e75-8c7f-5815a69a6380",
   "metadata": {},
   "outputs": [],
   "source": []
  },
  {
   "cell_type": "markdown",
   "id": "cf9060e9-2cab-456a-b761-5b6d4d63f9e5",
   "metadata": {},
   "source": [
    "## drawbacks of lists"
   ]
  },
  {
   "cell_type": "code",
   "execution_count": null,
   "id": "b72e67ef-6165-45cd-a67c-fba17592e7aa",
   "metadata": {},
   "outputs": [],
   "source": []
  },
  {
   "cell_type": "code",
   "execution_count": null,
   "id": "65467922-88aa-456a-b999-3be8df78bcf3",
   "metadata": {},
   "outputs": [],
   "source": []
  },
  {
   "cell_type": "code",
   "execution_count": null,
   "id": "cfb27a95-862e-4461-b21e-cfc547820d6b",
   "metadata": {},
   "outputs": [],
   "source": []
  },
  {
   "cell_type": "code",
   "execution_count": null,
   "id": "16a17698-7803-45c5-8805-c0cec9d1a212",
   "metadata": {},
   "outputs": [],
   "source": []
  },
  {
   "cell_type": "markdown",
   "id": "b1e6b243-aab9-4603-82b9-d13e0c90d09d",
   "metadata": {},
   "source": [
    "## introduction to numpy arrays"
   ]
  },
  {
   "cell_type": "code",
   "execution_count": null,
   "id": "3fd0632b-c551-487f-80c8-0b990a7b98ac",
   "metadata": {},
   "outputs": [],
   "source": [
    "#"
   ]
  },
  {
   "cell_type": "markdown",
   "id": "c430ca1d-f937-47c3-b089-b37aa34ab395",
   "metadata": {},
   "source": [
    "## converting lists to array?"
   ]
  },
  {
   "cell_type": "code",
   "execution_count": null,
   "id": "1a4e8073-6b6c-444a-888a-96b14957bb4a",
   "metadata": {},
   "outputs": [],
   "source": []
  },
  {
   "cell_type": "code",
   "execution_count": null,
   "id": "f9c7e49b-cb98-425f-8ccc-dbb6667d0899",
   "metadata": {},
   "outputs": [],
   "source": []
  },
  {
   "cell_type": "code",
   "execution_count": null,
   "id": "28ee02f6-25b2-4d70-98b4-7d309404e10d",
   "metadata": {},
   "outputs": [],
   "source": []
  },
  {
   "cell_type": "code",
   "execution_count": null,
   "id": "e4d8c33b-d0dd-4156-9783-8c21435f218b",
   "metadata": {},
   "outputs": [],
   "source": []
  }
 ],
 "metadata": {
  "kernelspec": {
   "display_name": "Python [conda env:base] *",
   "language": "python",
   "name": "conda-base-py"
  },
  "language_info": {
   "codemirror_mode": {
    "name": "ipython",
    "version": 3
   },
   "file_extension": ".py",
   "mimetype": "text/x-python",
   "name": "python",
   "nbconvert_exporter": "python",
   "pygments_lexer": "ipython3",
   "version": "3.12.7"
  }
 },
 "nbformat": 4,
 "nbformat_minor": 5
}
